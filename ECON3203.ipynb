{
  "nbformat": 4,
  "nbformat_minor": 0,
  "metadata": {
    "colab": {
      "provenance": []
    },
    "kernelspec": {
      "name": "python3",
      "display_name": "Python 3"
    },
    "language_info": {
      "name": "python"
    }
  },
  "cells": [
    {
      "cell_type": "code",
      "execution_count": null,
      "metadata": {
        "colab": {
          "base_uri": "https://localhost:8080/"
        },
        "id": "Z-6Iwew05myA",
        "outputId": "ec6b92d3-5bc6-4846-b2e1-fcac631be47d"
      },
      "outputs": [
        {
          "output_type": "stream",
          "name": "stdout",
          "text": [
            "Mounted at /content/drive\n"
          ]
        }
      ],
      "source": [
        "import pandas as pd\n",
        "from google.colab import drive\n",
        "import pandas as pd\n",
        "import numpy as np\n",
        "import matplotlib.pyplot as plt\n",
        "import seaborn as sns\n",
        "from sklearn.linear_model import ElasticNet\n",
        "import math\n",
        "import warnings\n",
        "from keras.layers.core import Dense \n",
        "from keras.models import Sequential\n",
        "import tensorflow as tf\n",
        "from scipy.special import expit\n",
        "from sklearn.model_selection import train_test_split\n",
        "from sklearn.preprocessing import StandardScaler\n",
        "from sklearn.linear_model import LinearRegression\n",
        "from sklearn.neighbors import KNeighborsRegressor\n",
        "from sklearn.linear_model import Lasso\n",
        "from sklearn.linear_model import ElasticNet\n",
        "from sklearn.linear_model import Ridge\n",
        "from imblearn.over_sampling import SMOTENC\n",
        "from sklearn.preprocessing import LabelEncoder\n",
        "from sklearn.metrics import roc_auc_score\n",
        "from sklearn.metrics import mean_squared_error\n",
        "from sklearn.metrics import SCORERS\n",
        "from lightgbm import LGBMClassifier\n",
        "from lightgbm import LGBMRegressor\n",
        "import xgboost as xgb\n",
        "from sklearn.ensemble import RandomForestClassifier\n",
        "from imblearn.ensemble import BalancedRandomForestClassifier\n",
        "from sklearn import set_config\n",
        "from imblearn.over_sampling import SMOTENC\n",
        "from sklearn.feature_selection import RFECV\n",
        "import xgboost as xgb\n",
        "from sklearn.linear_model import RidgeCV\n",
        "from sklearn.linear_model import ElasticNetCV\n",
        "import sklearn\n",
        "from sklearn.model_selection import StratifiedKFold\n",
        "from sklearn.model_selection import KFold\n",
        "from sklearn.model_selection import GridSearchCV\n",
        "from sklearn.ensemble import StackingClassifier\n",
        "from sklearn.metrics import mean_squared_error\n",
        "from sklearn.linear_model import LassoCV\n",
        "\n",
        "from keras.layers.core import Dense \n",
        "from keras.models import Sequential\n",
        "import tensorflow as tf\n",
        "\n",
        "\n",
        "drive.mount('/content/drive',force_remount=True)\n",
        "\n"
      ]
    },
    {
      "cell_type": "code",
      "source": [
        "warnings.simplefilter(\"ignore\")"
      ],
      "metadata": {
        "id": "6jseQAD7Gj2p"
      },
      "execution_count": null,
      "outputs": []
    },
    {
      "cell_type": "code",
      "source": [
        "\n",
        "tf.random.set_seed(0)"
      ],
      "metadata": {
        "id": "Im0OEfinY3Uy"
      },
      "execution_count": null,
      "outputs": []
    },
    {
      "cell_type": "code",
      "source": [
        "ATM_test = pd.read_csv('/content/drive/MyDrive/ECON3203/ATM_test.csv')\n",
        "ATM_train = pd.read_csv('/content/drive/MyDrive/ECON3203/ATM_training.csv')\n",
        "y_train = ATM_train['Withdraw']\n",
        "x_train = ATM_train.drop(['Withdraw'],axis=1)\n",
        "\n",
        "y_test = ATM_test['Withdraw']\n",
        "x_test = ATM_test.drop(['Withdraw'],axis=1)\n",
        " \n",
        "scaling = StandardScaler().fit(x_train)\n",
        "x_train[['Shops', 'ATMs', 'Downtown', 'Weekday', 'Center', 'High']] = scaling.transform(x_train)\n",
        "x_test[['Shops', 'ATMs', 'Downtown', 'Weekday', 'Center', 'High']] = scaling.transform(x_test)"
      ],
      "metadata": {
        "id": "psM8DB3t6EaR"
      },
      "execution_count": null,
      "outputs": []
    },
    {
      "cell_type": "code",
      "source": [
        "ATM_train.describe()"
      ],
      "metadata": {
        "colab": {
          "base_uri": "https://localhost:8080/",
          "height": 300
        },
        "id": "oB0aE9qTHe_h",
        "outputId": "ed3732ef-6e3b-4d5f-83ee-0d93cebe0fdf"
      },
      "execution_count": null,
      "outputs": [
        {
          "output_type": "execute_result",
          "data": {
            "text/plain": [
              "              Shops          ATMs     Downtown       Weekday        Center  \\\n",
              "count  22000.000000  22000.000000  22000.00000  22000.000000  22000.000000   \n",
              "mean       7.316373      7.937455      0.70200      0.714091      0.102455   \n",
              "std        4.118692      3.673415      0.45739      0.451857      0.303252   \n",
              "min        0.800000      0.000000      0.00000      0.000000      0.000000   \n",
              "25%        1.050000      4.000000      0.00000      0.000000      0.000000   \n",
              "50%        9.890000      9.000000      1.00000      1.000000      0.000000   \n",
              "75%       10.070000     11.000000      1.00000      1.000000      0.000000   \n",
              "max       10.830000     17.000000      1.00000      1.000000      1.000000   \n",
              "\n",
              "               High      Withdraw  \n",
              "count  22000.000000  22000.000000  \n",
              "mean       0.301591     54.652818  \n",
              "std        0.458959     25.099767  \n",
              "min        0.000000     11.668197  \n",
              "25%        0.000000     18.500386  \n",
              "50%        0.000000     68.240749  \n",
              "75%        1.000000     71.345778  \n",
              "max        1.000000    103.964065  "
            ],
            "text/html": [
              "\n",
              "  <div id=\"df-cb911875-9286-4b60-805a-27121029ad6e\">\n",
              "    <div class=\"colab-df-container\">\n",
              "      <div>\n",
              "<style scoped>\n",
              "    .dataframe tbody tr th:only-of-type {\n",
              "        vertical-align: middle;\n",
              "    }\n",
              "\n",
              "    .dataframe tbody tr th {\n",
              "        vertical-align: top;\n",
              "    }\n",
              "\n",
              "    .dataframe thead th {\n",
              "        text-align: right;\n",
              "    }\n",
              "</style>\n",
              "<table border=\"1\" class=\"dataframe\">\n",
              "  <thead>\n",
              "    <tr style=\"text-align: right;\">\n",
              "      <th></th>\n",
              "      <th>Shops</th>\n",
              "      <th>ATMs</th>\n",
              "      <th>Downtown</th>\n",
              "      <th>Weekday</th>\n",
              "      <th>Center</th>\n",
              "      <th>High</th>\n",
              "      <th>Withdraw</th>\n",
              "    </tr>\n",
              "  </thead>\n",
              "  <tbody>\n",
              "    <tr>\n",
              "      <th>count</th>\n",
              "      <td>22000.000000</td>\n",
              "      <td>22000.000000</td>\n",
              "      <td>22000.00000</td>\n",
              "      <td>22000.000000</td>\n",
              "      <td>22000.000000</td>\n",
              "      <td>22000.000000</td>\n",
              "      <td>22000.000000</td>\n",
              "    </tr>\n",
              "    <tr>\n",
              "      <th>mean</th>\n",
              "      <td>7.316373</td>\n",
              "      <td>7.937455</td>\n",
              "      <td>0.70200</td>\n",
              "      <td>0.714091</td>\n",
              "      <td>0.102455</td>\n",
              "      <td>0.301591</td>\n",
              "      <td>54.652818</td>\n",
              "    </tr>\n",
              "    <tr>\n",
              "      <th>std</th>\n",
              "      <td>4.118692</td>\n",
              "      <td>3.673415</td>\n",
              "      <td>0.45739</td>\n",
              "      <td>0.451857</td>\n",
              "      <td>0.303252</td>\n",
              "      <td>0.458959</td>\n",
              "      <td>25.099767</td>\n",
              "    </tr>\n",
              "    <tr>\n",
              "      <th>min</th>\n",
              "      <td>0.800000</td>\n",
              "      <td>0.000000</td>\n",
              "      <td>0.00000</td>\n",
              "      <td>0.000000</td>\n",
              "      <td>0.000000</td>\n",
              "      <td>0.000000</td>\n",
              "      <td>11.668197</td>\n",
              "    </tr>\n",
              "    <tr>\n",
              "      <th>25%</th>\n",
              "      <td>1.050000</td>\n",
              "      <td>4.000000</td>\n",
              "      <td>0.00000</td>\n",
              "      <td>0.000000</td>\n",
              "      <td>0.000000</td>\n",
              "      <td>0.000000</td>\n",
              "      <td>18.500386</td>\n",
              "    </tr>\n",
              "    <tr>\n",
              "      <th>50%</th>\n",
              "      <td>9.890000</td>\n",
              "      <td>9.000000</td>\n",
              "      <td>1.00000</td>\n",
              "      <td>1.000000</td>\n",
              "      <td>0.000000</td>\n",
              "      <td>0.000000</td>\n",
              "      <td>68.240749</td>\n",
              "    </tr>\n",
              "    <tr>\n",
              "      <th>75%</th>\n",
              "      <td>10.070000</td>\n",
              "      <td>11.000000</td>\n",
              "      <td>1.00000</td>\n",
              "      <td>1.000000</td>\n",
              "      <td>0.000000</td>\n",
              "      <td>1.000000</td>\n",
              "      <td>71.345778</td>\n",
              "    </tr>\n",
              "    <tr>\n",
              "      <th>max</th>\n",
              "      <td>10.830000</td>\n",
              "      <td>17.000000</td>\n",
              "      <td>1.00000</td>\n",
              "      <td>1.000000</td>\n",
              "      <td>1.000000</td>\n",
              "      <td>1.000000</td>\n",
              "      <td>103.964065</td>\n",
              "    </tr>\n",
              "  </tbody>\n",
              "</table>\n",
              "</div>\n",
              "      <button class=\"colab-df-convert\" onclick=\"convertToInteractive('df-cb911875-9286-4b60-805a-27121029ad6e')\"\n",
              "              title=\"Convert this dataframe to an interactive table.\"\n",
              "              style=\"display:none;\">\n",
              "        \n",
              "  <svg xmlns=\"http://www.w3.org/2000/svg\" height=\"24px\"viewBox=\"0 0 24 24\"\n",
              "       width=\"24px\">\n",
              "    <path d=\"M0 0h24v24H0V0z\" fill=\"none\"/>\n",
              "    <path d=\"M18.56 5.44l.94 2.06.94-2.06 2.06-.94-2.06-.94-.94-2.06-.94 2.06-2.06.94zm-11 1L8.5 8.5l.94-2.06 2.06-.94-2.06-.94L8.5 2.5l-.94 2.06-2.06.94zm10 10l.94 2.06.94-2.06 2.06-.94-2.06-.94-.94-2.06-.94 2.06-2.06.94z\"/><path d=\"M17.41 7.96l-1.37-1.37c-.4-.4-.92-.59-1.43-.59-.52 0-1.04.2-1.43.59L10.3 9.45l-7.72 7.72c-.78.78-.78 2.05 0 2.83L4 21.41c.39.39.9.59 1.41.59.51 0 1.02-.2 1.41-.59l7.78-7.78 2.81-2.81c.8-.78.8-2.07 0-2.86zM5.41 20L4 18.59l7.72-7.72 1.47 1.35L5.41 20z\"/>\n",
              "  </svg>\n",
              "      </button>\n",
              "      \n",
              "  <style>\n",
              "    .colab-df-container {\n",
              "      display:flex;\n",
              "      flex-wrap:wrap;\n",
              "      gap: 12px;\n",
              "    }\n",
              "\n",
              "    .colab-df-convert {\n",
              "      background-color: #E8F0FE;\n",
              "      border: none;\n",
              "      border-radius: 50%;\n",
              "      cursor: pointer;\n",
              "      display: none;\n",
              "      fill: #1967D2;\n",
              "      height: 32px;\n",
              "      padding: 0 0 0 0;\n",
              "      width: 32px;\n",
              "    }\n",
              "\n",
              "    .colab-df-convert:hover {\n",
              "      background-color: #E2EBFA;\n",
              "      box-shadow: 0px 1px 2px rgba(60, 64, 67, 0.3), 0px 1px 3px 1px rgba(60, 64, 67, 0.15);\n",
              "      fill: #174EA6;\n",
              "    }\n",
              "\n",
              "    [theme=dark] .colab-df-convert {\n",
              "      background-color: #3B4455;\n",
              "      fill: #D2E3FC;\n",
              "    }\n",
              "\n",
              "    [theme=dark] .colab-df-convert:hover {\n",
              "      background-color: #434B5C;\n",
              "      box-shadow: 0px 1px 3px 1px rgba(0, 0, 0, 0.15);\n",
              "      filter: drop-shadow(0px 1px 2px rgba(0, 0, 0, 0.3));\n",
              "      fill: #FFFFFF;\n",
              "    }\n",
              "  </style>\n",
              "\n",
              "      <script>\n",
              "        const buttonEl =\n",
              "          document.querySelector('#df-cb911875-9286-4b60-805a-27121029ad6e button.colab-df-convert');\n",
              "        buttonEl.style.display =\n",
              "          google.colab.kernel.accessAllowed ? 'block' : 'none';\n",
              "\n",
              "        async function convertToInteractive(key) {\n",
              "          const element = document.querySelector('#df-cb911875-9286-4b60-805a-27121029ad6e');\n",
              "          const dataTable =\n",
              "            await google.colab.kernel.invokeFunction('convertToInteractive',\n",
              "                                                     [key], {});\n",
              "          if (!dataTable) return;\n",
              "\n",
              "          const docLinkHtml = 'Like what you see? Visit the ' +\n",
              "            '<a target=\"_blank\" href=https://colab.research.google.com/notebooks/data_table.ipynb>data table notebook</a>'\n",
              "            + ' to learn more about interactive tables.';\n",
              "          element.innerHTML = '';\n",
              "          dataTable['output_type'] = 'display_data';\n",
              "          await google.colab.output.renderOutput(dataTable, element);\n",
              "          const docLink = document.createElement('div');\n",
              "          docLink.innerHTML = docLinkHtml;\n",
              "          element.appendChild(docLink);\n",
              "        }\n",
              "      </script>\n",
              "    </div>\n",
              "  </div>\n",
              "  "
            ]
          },
          "metadata": {},
          "execution_count": 267
        }
      ]
    },
    {
      "cell_type": "code",
      "source": [
        "ATM_train.corr()"
      ],
      "metadata": {
        "colab": {
          "base_uri": "https://localhost:8080/",
          "height": 269
        },
        "id": "fcnv6g_vslkO",
        "outputId": "a53ef1d8-c3ea-4d69-8632-460d85353b55"
      },
      "execution_count": null,
      "outputs": [
        {
          "output_type": "execute_result",
          "data": {
            "text/plain": [
              "             Shops      ATMs  Downtown   Weekday    Center      High  Withdraw\n",
              "Shops     1.000000  0.872903  0.999131  0.013014  0.000004  0.001820  0.985797\n",
              "ATMs      0.872903  1.000000  0.873726  0.009766 -0.003306 -0.002616  0.824030\n",
              "Downtown  0.999131  0.873726  1.000000  0.012664 -0.000101  0.001782  0.983574\n",
              "Weekday   0.013014  0.009766  0.012664  1.000000 -0.007153 -0.006793 -0.050470\n",
              "Center    0.000004 -0.003306 -0.000101 -0.007153  1.000000  0.010521  0.088103\n",
              "High      0.001820 -0.002616  0.001782 -0.006793  0.010521  1.000000  0.021275\n",
              "Withdraw  0.985797  0.824030  0.983574 -0.050470  0.088103  0.021275  1.000000"
            ],
            "text/html": [
              "\n",
              "  <div id=\"df-644fe76c-69a9-42f2-8107-22d3c3c539f2\">\n",
              "    <div class=\"colab-df-container\">\n",
              "      <div>\n",
              "<style scoped>\n",
              "    .dataframe tbody tr th:only-of-type {\n",
              "        vertical-align: middle;\n",
              "    }\n",
              "\n",
              "    .dataframe tbody tr th {\n",
              "        vertical-align: top;\n",
              "    }\n",
              "\n",
              "    .dataframe thead th {\n",
              "        text-align: right;\n",
              "    }\n",
              "</style>\n",
              "<table border=\"1\" class=\"dataframe\">\n",
              "  <thead>\n",
              "    <tr style=\"text-align: right;\">\n",
              "      <th></th>\n",
              "      <th>Shops</th>\n",
              "      <th>ATMs</th>\n",
              "      <th>Downtown</th>\n",
              "      <th>Weekday</th>\n",
              "      <th>Center</th>\n",
              "      <th>High</th>\n",
              "      <th>Withdraw</th>\n",
              "    </tr>\n",
              "  </thead>\n",
              "  <tbody>\n",
              "    <tr>\n",
              "      <th>Shops</th>\n",
              "      <td>1.000000</td>\n",
              "      <td>0.872903</td>\n",
              "      <td>0.999131</td>\n",
              "      <td>0.013014</td>\n",
              "      <td>0.000004</td>\n",
              "      <td>0.001820</td>\n",
              "      <td>0.985797</td>\n",
              "    </tr>\n",
              "    <tr>\n",
              "      <th>ATMs</th>\n",
              "      <td>0.872903</td>\n",
              "      <td>1.000000</td>\n",
              "      <td>0.873726</td>\n",
              "      <td>0.009766</td>\n",
              "      <td>-0.003306</td>\n",
              "      <td>-0.002616</td>\n",
              "      <td>0.824030</td>\n",
              "    </tr>\n",
              "    <tr>\n",
              "      <th>Downtown</th>\n",
              "      <td>0.999131</td>\n",
              "      <td>0.873726</td>\n",
              "      <td>1.000000</td>\n",
              "      <td>0.012664</td>\n",
              "      <td>-0.000101</td>\n",
              "      <td>0.001782</td>\n",
              "      <td>0.983574</td>\n",
              "    </tr>\n",
              "    <tr>\n",
              "      <th>Weekday</th>\n",
              "      <td>0.013014</td>\n",
              "      <td>0.009766</td>\n",
              "      <td>0.012664</td>\n",
              "      <td>1.000000</td>\n",
              "      <td>-0.007153</td>\n",
              "      <td>-0.006793</td>\n",
              "      <td>-0.050470</td>\n",
              "    </tr>\n",
              "    <tr>\n",
              "      <th>Center</th>\n",
              "      <td>0.000004</td>\n",
              "      <td>-0.003306</td>\n",
              "      <td>-0.000101</td>\n",
              "      <td>-0.007153</td>\n",
              "      <td>1.000000</td>\n",
              "      <td>0.010521</td>\n",
              "      <td>0.088103</td>\n",
              "    </tr>\n",
              "    <tr>\n",
              "      <th>High</th>\n",
              "      <td>0.001820</td>\n",
              "      <td>-0.002616</td>\n",
              "      <td>0.001782</td>\n",
              "      <td>-0.006793</td>\n",
              "      <td>0.010521</td>\n",
              "      <td>1.000000</td>\n",
              "      <td>0.021275</td>\n",
              "    </tr>\n",
              "    <tr>\n",
              "      <th>Withdraw</th>\n",
              "      <td>0.985797</td>\n",
              "      <td>0.824030</td>\n",
              "      <td>0.983574</td>\n",
              "      <td>-0.050470</td>\n",
              "      <td>0.088103</td>\n",
              "      <td>0.021275</td>\n",
              "      <td>1.000000</td>\n",
              "    </tr>\n",
              "  </tbody>\n",
              "</table>\n",
              "</div>\n",
              "      <button class=\"colab-df-convert\" onclick=\"convertToInteractive('df-644fe76c-69a9-42f2-8107-22d3c3c539f2')\"\n",
              "              title=\"Convert this dataframe to an interactive table.\"\n",
              "              style=\"display:none;\">\n",
              "        \n",
              "  <svg xmlns=\"http://www.w3.org/2000/svg\" height=\"24px\"viewBox=\"0 0 24 24\"\n",
              "       width=\"24px\">\n",
              "    <path d=\"M0 0h24v24H0V0z\" fill=\"none\"/>\n",
              "    <path d=\"M18.56 5.44l.94 2.06.94-2.06 2.06-.94-2.06-.94-.94-2.06-.94 2.06-2.06.94zm-11 1L8.5 8.5l.94-2.06 2.06-.94-2.06-.94L8.5 2.5l-.94 2.06-2.06.94zm10 10l.94 2.06.94-2.06 2.06-.94-2.06-.94-.94-2.06-.94 2.06-2.06.94z\"/><path d=\"M17.41 7.96l-1.37-1.37c-.4-.4-.92-.59-1.43-.59-.52 0-1.04.2-1.43.59L10.3 9.45l-7.72 7.72c-.78.78-.78 2.05 0 2.83L4 21.41c.39.39.9.59 1.41.59.51 0 1.02-.2 1.41-.59l7.78-7.78 2.81-2.81c.8-.78.8-2.07 0-2.86zM5.41 20L4 18.59l7.72-7.72 1.47 1.35L5.41 20z\"/>\n",
              "  </svg>\n",
              "      </button>\n",
              "      \n",
              "  <style>\n",
              "    .colab-df-container {\n",
              "      display:flex;\n",
              "      flex-wrap:wrap;\n",
              "      gap: 12px;\n",
              "    }\n",
              "\n",
              "    .colab-df-convert {\n",
              "      background-color: #E8F0FE;\n",
              "      border: none;\n",
              "      border-radius: 50%;\n",
              "      cursor: pointer;\n",
              "      display: none;\n",
              "      fill: #1967D2;\n",
              "      height: 32px;\n",
              "      padding: 0 0 0 0;\n",
              "      width: 32px;\n",
              "    }\n",
              "\n",
              "    .colab-df-convert:hover {\n",
              "      background-color: #E2EBFA;\n",
              "      box-shadow: 0px 1px 2px rgba(60, 64, 67, 0.3), 0px 1px 3px 1px rgba(60, 64, 67, 0.15);\n",
              "      fill: #174EA6;\n",
              "    }\n",
              "\n",
              "    [theme=dark] .colab-df-convert {\n",
              "      background-color: #3B4455;\n",
              "      fill: #D2E3FC;\n",
              "    }\n",
              "\n",
              "    [theme=dark] .colab-df-convert:hover {\n",
              "      background-color: #434B5C;\n",
              "      box-shadow: 0px 1px 3px 1px rgba(0, 0, 0, 0.15);\n",
              "      filter: drop-shadow(0px 1px 2px rgba(0, 0, 0, 0.3));\n",
              "      fill: #FFFFFF;\n",
              "    }\n",
              "  </style>\n",
              "\n",
              "      <script>\n",
              "        const buttonEl =\n",
              "          document.querySelector('#df-644fe76c-69a9-42f2-8107-22d3c3c539f2 button.colab-df-convert');\n",
              "        buttonEl.style.display =\n",
              "          google.colab.kernel.accessAllowed ? 'block' : 'none';\n",
              "\n",
              "        async function convertToInteractive(key) {\n",
              "          const element = document.querySelector('#df-644fe76c-69a9-42f2-8107-22d3c3c539f2');\n",
              "          const dataTable =\n",
              "            await google.colab.kernel.invokeFunction('convertToInteractive',\n",
              "                                                     [key], {});\n",
              "          if (!dataTable) return;\n",
              "\n",
              "          const docLinkHtml = 'Like what you see? Visit the ' +\n",
              "            '<a target=\"_blank\" href=https://colab.research.google.com/notebooks/data_table.ipynb>data table notebook</a>'\n",
              "            + ' to learn more about interactive tables.';\n",
              "          element.innerHTML = '';\n",
              "          dataTable['output_type'] = 'display_data';\n",
              "          await google.colab.output.renderOutput(dataTable, element);\n",
              "          const docLink = document.createElement('div');\n",
              "          docLink.innerHTML = docLinkHtml;\n",
              "          element.appendChild(docLink);\n",
              "        }\n",
              "      </script>\n",
              "    </div>\n",
              "  </div>\n",
              "  "
            ]
          },
          "metadata": {},
          "execution_count": 268
        }
      ]
    },
    {
      "cell_type": "code",
      "source": [
        "sns.heatmap(ATM_train.corr(), annot=True)"
      ],
      "metadata": {
        "colab": {
          "base_uri": "https://localhost:8080/",
          "height": 329
        },
        "id": "badNGCsXIzNE",
        "outputId": "e99d4bd4-a2e9-4591-8c04-141de4877ff9"
      },
      "execution_count": null,
      "outputs": [
        {
          "output_type": "execute_result",
          "data": {
            "text/plain": [
              "<matplotlib.axes._subplots.AxesSubplot at 0x7fcf226e04d0>"
            ]
          },
          "metadata": {},
          "execution_count": 270
        },
        {
          "output_type": "display_data",
          "data": {
            "text/plain": [
              "<Figure size 432x288 with 2 Axes>"
            ],
            "image/png": "[encoded data removed]"
          },
          "metadata": {
            "needs_background": "light"
          }
        }
      ]
    },
    {
      "cell_type": "code",
      "source": [
        "sns.histplot(x ='Shops', data = ATM_train,binwidth = 0.1).set(title='Histogram plot of shops in training data')\n",
        "plt.show()"
      ],
      "metadata": {
        "colab": {
          "base_uri": "https://localhost:8080/",
          "height": 295
        },
        "id": "WrI8yaee9X9X",
        "outputId": "e8404e95-858e-49d0-857e-514e9215c2f1"
      },
      "execution_count": null,
      "outputs": [
        {
          "output_type": "display_data",
          "data": {
            "text/plain": [
              "<Figure size 432x288 with 1 Axes>"
            ],
            "image/png": "[encoded data removed]"
          },
          "metadata": {
            "needs_background": "light"
          }
        }
      ]
    },
    {
      "cell_type": "code",
      "source": [
        "sns.histplot(x ='Shops', data = ATM_test,binwidth = 0.1).set(title='Histogram plot of shops in test data')\n",
        "plt.show()"
      ],
      "metadata": {
        "colab": {
          "base_uri": "https://localhost:8080/",
          "height": 295
        },
        "id": "5cGvm_EpBS7O",
        "outputId": "9ef3da50-c83b-4770-b936-b90910603d9c"
      },
      "execution_count": null,
      "outputs": [
        {
          "output_type": "display_data",
          "data": {
            "text/plain": [
              "<Figure size 432x288 with 1 Axes>"
            ],
            "image/png": "[encoded data removed]"
          },
          "metadata": {
            "needs_background": "light"
          }
        }
      ]
    },
    {
      "cell_type": "code",
      "source": [
        "sns.histplot(x ='ATMs', data = ATM_train,binwidth = 1).set(title='Histogram plot of Count in train data')\n"
      ],
      "metadata": {
        "colab": {
          "base_uri": "https://localhost:8080/",
          "height": 313
        },
        "id": "plOMZuUiBXyT",
        "outputId": "f624bd36-57b2-4dcf-bdff-7aa3dd8e234d"
      },
      "execution_count": null,
      "outputs": [
        {
          "output_type": "execute_result",
          "data": {
            "text/plain": [
              "[Text(0.5, 1.0, 'Histogram plot of Count in train data')]"
            ]
          },
          "metadata": {},
          "execution_count": 5
        },
        {
          "output_type": "display_data",
          "data": {
            "text/plain": [
              "<Figure size 432x288 with 1 Axes>"
            ],
            "image/png": "[encoded data removed]"
          },
          "metadata": {
            "needs_background": "light"
          }
        }
      ]
    },
    {
      "cell_type": "code",
      "source": [
        "sns.histplot(x ='ATMs', data = ATM_test,binwidth = 1).set(title='Histogram plot of Count in test data')\n"
      ],
      "metadata": {
        "colab": {
          "base_uri": "https://localhost:8080/",
          "height": 313
        },
        "id": "T-mrCH1pBlaB",
        "outputId": "86311ee7-10cd-4359-d32e-83dc680896e0"
      },
      "execution_count": null,
      "outputs": [
        {
          "output_type": "execute_result",
          "data": {
            "text/plain": [
              "[Text(0.5, 1.0, 'Histogram plot of Count in test data')]"
            ]
          },
          "metadata": {},
          "execution_count": 6
        },
        {
          "output_type": "display_data",
          "data": {
            "text/plain": [
              "<Figure size 432x288 with 1 Axes>"
            ],
            "image/png": "[encoded data removed]"
          },
          "metadata": {
            "needs_background": "light"
          }
        }
      ]
    },
    {
      "cell_type": "code",
      "source": [
        "sns.countplot(x ='Weekday', data = ATM_train).set(title='Count of plot of Weekday in Train data')\n"
      ],
      "metadata": {
        "colab": {
          "base_uri": "https://localhost:8080/",
          "height": 313
        },
        "id": "08fUGjTZBqId",
        "outputId": "d090e9c4-e16a-4287-c7de-ca5ec79e8c8d"
      },
      "execution_count": null,
      "outputs": [
        {
          "output_type": "execute_result",
          "data": {
            "text/plain": [
              "[Text(0.5, 1.0, 'Count of plot of Weekday in Train data')]"
            ]
          },
          "metadata": {},
          "execution_count": 7
        },
        {
          "output_type": "display_data",
          "data": {
            "text/plain": [
              "<Figure size 432x288 with 1 Axes>"
            ],
            "image/png": "[encoded data removed]"
          },
          "metadata": {
            "needs_background": "light"
          }
        }
      ]
    },
    {
      "cell_type": "code",
      "source": [
        "sns.countplot(x ='Weekday', data = ATM_test).set(title='Count of plot of Weekday in Test data')\n",
        "\n",
        "\n"
      ],
      "metadata": {
        "colab": {
          "base_uri": "https://localhost:8080/",
          "height": 313
        },
        "id": "dnNZDs3YB00u",
        "outputId": "0bcd7563-dd8c-453f-9791-f74a2cde91ce"
      },
      "execution_count": null,
      "outputs": [
        {
          "output_type": "execute_result",
          "data": {
            "text/plain": [
              "[Text(0.5, 1.0, 'Count of plot of Weekday in Test data')]"
            ]
          },
          "metadata": {},
          "execution_count": 8
        },
        {
          "output_type": "display_data",
          "data": {
            "text/plain": [
              "<Figure size 432x288 with 1 Axes>"
            ],
            "image/png": "[encoded data removed]"
          },
          "metadata": {
            "needs_background": "light"
          }
        }
      ]
    },
    {
      "cell_type": "code",
      "source": [
        "sns.countplot(x ='Center', data = ATM_train).set(title='Count of plot of Center in Train data')\n",
        "\n"
      ],
      "metadata": {
        "colab": {
          "base_uri": "https://localhost:8080/",
          "height": 313
        },
        "id": "4bKkQt27B7B1",
        "outputId": "0af6451a-6579-4d92-c970-2532c7cd2651"
      },
      "execution_count": null,
      "outputs": [
        {
          "output_type": "execute_result",
          "data": {
            "text/plain": [
              "[Text(0.5, 1.0, 'Count of plot of Center in Train data')]"
            ]
          },
          "metadata": {},
          "execution_count": 9
        },
        {
          "output_type": "display_data",
          "data": {
            "text/plain": [
              "<Figure size 432x288 with 1 Axes>"
            ],
            "image/png": "[encoded data removed]"
          },
          "metadata": {
            "needs_background": "light"
          }
        }
      ]
    },
    {
      "cell_type": "code",
      "source": [
        "sns.countplot(x ='Center', data = ATM_test).set(title='Count of plot of Center in Test data')\n"
      ],
      "metadata": {
        "colab": {
          "base_uri": "https://localhost:8080/",
          "height": 313
        },
        "id": "xJzUFZ4Y-H4e",
        "outputId": "48b2354b-3fd4-47e2-8608-520d32cfb0e1"
      },
      "execution_count": null,
      "outputs": [
        {
          "output_type": "execute_result",
          "data": {
            "text/plain": [
              "[Text(0.5, 1.0, 'Count of plot of Center in Test data')]"
            ]
          },
          "metadata": {},
          "execution_count": 10
        },
        {
          "output_type": "display_data",
          "data": {
            "text/plain": [
              "<Figure size 432x288 with 1 Axes>"
            ],
            "image/png": "[encoded data removed]"
          },
          "metadata": {
            "needs_background": "light"
          }
        }
      ]
    },
    {
      "cell_type": "code",
      "source": [
        "sns.countplot(x ='High', data = ATM_train).set(title='Count of plot of High in Train data')\n"
      ],
      "metadata": {
        "colab": {
          "base_uri": "https://localhost:8080/",
          "height": 313
        },
        "id": "8eJde2R5B_hK",
        "outputId": "f373d595-3028-4e85-d960-e1ba3c00e2ae"
      },
      "execution_count": null,
      "outputs": [
        {
          "output_type": "execute_result",
          "data": {
            "text/plain": [
              "[Text(0.5, 1.0, 'Count of plot of High in Train data')]"
            ]
          },
          "metadata": {},
          "execution_count": 11
        },
        {
          "output_type": "display_data",
          "data": {
            "text/plain": [
              "<Figure size 432x288 with 1 Axes>"
            ],
            "image/png": "[encoded data removed]"
          },
          "metadata": {
            "needs_background": "light"
          }
        }
      ]
    },
    {
      "cell_type": "code",
      "source": [
        "sns.countplot(x ='High', data = ATM_test).set(title='Count of plot of High in Test data')\n"
      ],
      "metadata": {
        "colab": {
          "base_uri": "https://localhost:8080/",
          "height": 313
        },
        "id": "EgouRTiaCBaS",
        "outputId": "0c1c8de7-7b44-47a9-c98e-d062c1a9d1f9"
      },
      "execution_count": null,
      "outputs": [
        {
          "output_type": "execute_result",
          "data": {
            "text/plain": [
              "[Text(0.5, 1.0, 'Count of plot of High in Test data')]"
            ]
          },
          "metadata": {},
          "execution_count": 12
        },
        {
          "output_type": "display_data",
          "data": {
            "text/plain": [
              "<Figure size 432x288 with 1 Axes>"
            ],
            "image/png": "[encoded data removed]"
          },
          "metadata": {
            "needs_background": "light"
          }
        }
      ]
    },
    {
      "cell_type": "code",
      "source": [
        "sns.histplot(x ='ATMs', data = ATM_train,binwidth = 1).set(title='Count of plot of ATMs in Train data')\n"
      ],
      "metadata": {
        "colab": {
          "base_uri": "https://localhost:8080/",
          "height": 313
        },
        "id": "G5D9r0M-CMrJ",
        "outputId": "838d735a-cc8d-4a9c-f001-9c27dfbb7bfe"
      },
      "execution_count": null,
      "outputs": [
        {
          "output_type": "execute_result",
          "data": {
            "text/plain": [
              "[Text(0.5, 1.0, 'Count of plot of ATMs in Train data')]"
            ]
          },
          "metadata": {},
          "execution_count": 13
        },
        {
          "output_type": "display_data",
          "data": {
            "text/plain": [
              "<Figure size 432x288 with 1 Axes>"
            ],
            "image/png": "[encoded data removed]"
          },
          "metadata": {
            "needs_background": "light"
          }
        }
      ]
    },
    {
      "cell_type": "code",
      "source": [
        "sns.histplot(x ='ATMs', data = ATM_test,binwidth = 1).set(title='Count of plot of ATMs in Test data')\n"
      ],
      "metadata": {
        "colab": {
          "base_uri": "https://localhost:8080/",
          "height": 313
        },
        "id": "49o9rOAaCyka",
        "outputId": "6e703d8e-d2ca-49d6-8904-67da7b9386b1"
      },
      "execution_count": null,
      "outputs": [
        {
          "output_type": "execute_result",
          "data": {
            "text/plain": [
              "[Text(0.5, 1.0, 'Count of plot of ATMs in Test data')]"
            ]
          },
          "metadata": {},
          "execution_count": 14
        },
        {
          "output_type": "display_data",
          "data": {
            "text/plain": [
              "<Figure size 432x288 with 1 Axes>"
            ],
            "image/png": "[encoded data removed]"
          },
          "metadata": {
            "needs_background": "light"
          }
        }
      ]
    },
    {
      "cell_type": "code",
      "source": [
        "predictors = ['Shops', 'ATMs', 'Downtown', 'Weekday', 'Center', 'High']\n",
        "response = ['Withdraw']"
      ],
      "metadata": {
        "id": "AQuf8nxF0Bbp"
      },
      "execution_count": null,
      "outputs": []
    },
    {
      "cell_type": "code",
      "source": [
        "import statsmodels.formula.api as smf\n",
        "\n",
        "formula = \"Withdraw ~ Shops + ATMs + Downtown + Weekday + Center + High\"\n",
        "\n",
        "model_formula = smf.ols(formula = formula, data = ATM_train)\n",
        "\n",
        "results_formula = model_formula.fit()\n",
        "y_pred = results_formula.predict(ATM_test)\n",
        "y_true = ATM_test['Withdraw']\n",
        "test_error = mean_squared_error(y_true, y_pred)\n",
        "print(test_error)\n",
        "print(results_formula.summary())"
      ],
      "metadata": {
        "colab": {
          "base_uri": "https://localhost:8080/"
        },
        "id": "vVPM4syFqNdZ",
        "outputId": "df4a228f-dbd5-4a83-99ff-b9ed2a7c7181"
      },
      "execution_count": null,
      "outputs": [
        {
          "output_type": "stream",
          "name": "stdout",
          "text": [
            "7.40588444985482\n",
            "                            OLS Regression Results                            \n",
            "==============================================================================\n",
            "Dep. Variable:               Withdraw   R-squared:                       0.990\n",
            "Model:                            OLS   Adj. R-squared:                  0.990\n",
            "Method:                 Least Squares   F-statistic:                 3.656e+05\n",
            "Date:                Fri, 11 Nov 2022   Prob (F-statistic):               0.00\n",
            "Time:                        12:29:42   Log-Likelihood:                -51380.\n",
            "No. Observations:               22000   AIC:                         1.028e+05\n",
            "Df Residuals:                   21993   BIC:                         1.028e+05\n",
            "Df Model:                           6                                         \n",
            "Covariance Type:            nonrobust                                         \n",
            "==============================================================================\n",
            "                 coef    std err          t      P>|t|      [0.025      0.975]\n",
            "------------------------------------------------------------------------------\n",
            "Intercept     10.4284      0.111     94.198      0.000      10.211      10.645\n",
            "Shops         10.8138      0.098    110.062      0.000      10.621      11.006\n",
            "ATMs          -1.0096      0.009   -106.982      0.000      -1.028      -0.991\n",
            "Downtown     -36.1897      0.887    -40.781      0.000     -37.929     -34.450\n",
            "Weekday       -3.5011      0.037    -93.806      0.000      -3.574      -3.428\n",
            "Center         7.1931      0.056    129.352      0.000       7.084       7.302\n",
            "High           0.9566      0.037     26.035      0.000       0.885       1.029\n",
            "==============================================================================\n",
            "Omnibus:                    17745.344   Durbin-Watson:                   1.998\n",
            "Prob(Omnibus):                  0.000   Jarque-Bera (JB):           468940.833\n",
            "Skew:                           3.781   Prob(JB):                         0.00\n",
            "Kurtosis:                      24.316   Cond. No.                         646.\n",
            "==============================================================================\n",
            "\n",
            "Notes:\n",
            "[1] Standard Errors assume that the covariance matrix of the errors is correctly specified.\n"
          ]
        }
      ]
    },
    {
      "cell_type": "code",
      "source": [
        "cv = KFold(n_splits=5)\n",
        "linear_scores = []\n",
        "for fold, (train_idx,test_idx) in enumerate(cv.split(x_train,y_train)):\n",
        "  train_x, valid_x = x_train.iloc[train_idx], x_train.iloc[test_idx]\n",
        "  train_y, valid_y = y_train.iloc[train_idx], y_train.iloc[test_idx]\n",
        "  linear = LinearRegression().fit(train_x,train_y)\n",
        "  linear_pred = linear.predict(valid_x)\n",
        "  linear_scores.append(mean_squared_error(valid_y, linear_pred))\n",
        "  print(\"round \",fold, \"LINEAR MSE:\", round(mean_squared_error(valid_y, linear_pred), 5))\n",
        "  \n",
        "print(\"Average Cross Validation Linear Regression MSE:\", round(sum(linear_scores)/len(linear_scores), 5))\n",
        "print(\"TEST MSE\", round(mean_squared_error(y_train, linear.predict(x_train)), 5))"
      ],
      "metadata": {
        "id": "fP3K_eth6GP4",
        "colab": {
          "base_uri": "https://localhost:8080/"
        },
        "outputId": "ef6151c0-e4b2-41de-bfd3-b94f809eed11"
      },
      "execution_count": null,
      "outputs": [
        {
          "output_type": "stream",
          "name": "stdout",
          "text": [
            "round  0 LINEAR MSE: 6.4216\n",
            "round  1 LINEAR MSE: 6.59567\n",
            "round  2 LINEAR MSE: 6.26121\n",
            "round  3 LINEAR MSE: 5.58558\n",
            "round  4 LINEAR MSE: 6.43395\n",
            "Average Cross Validation Linear Regression MSE: 6.2596\n",
            "TEST MSE 6.25305\n"
          ]
        }
      ]
    },
    {
      "cell_type": "code",
      "source": [
        "\n",
        "alphas = np.exp(np.linspace(-10,20,500)).tolist() \n",
        "alphas.append(0)\n",
        "ridge_cv = RidgeCV(alphas=alphas, cv=5)\n",
        "ridge_cv.fit(x_train, y_train)\n",
        "print(f\"Ridge Lambda: {ridge_cv.alpha_}\")\n",
        "ridge_cv_pred = ridge_cv.predict(x_test)\n",
        "print(\"TEST MSE\",mean_squared_error(y_test,ridge_cv_pred))\n",
        "cv = KFold(n_splits=5)\n",
        "ridge_scores = []\n",
        "for fold, (train_idx,test_idx) in enumerate(cv.split(x_train,y_train)):\n",
        "  train_x, valid_x = x_train.iloc[train_idx], x_train.iloc[test_idx]\n",
        "  train_y, valid_y = y_train.iloc[train_idx], y_train.iloc[test_idx]\n",
        "  ridge = RidgeCV(alphas=alphas, cv=5).fit(train_x,train_y)\n",
        "  ridge_pred = ridge.predict(valid_x)\n",
        "  ridge_scores.append(mean_squared_error(valid_y, ridge_pred))\n",
        "  print(\"round \",fold, \"RIDGE MSE:\", round(mean_squared_error(valid_y, ridge_pred), 5))\n",
        "print(\"Average Cross Validation RIDGE MSE:\", round(sum(ridge_scores)/len(ridge_scores), 5))"
      ],
      "metadata": {
        "colab": {
          "base_uri": "https://localhost:8080/"
        },
        "id": "ThewPjbw27-s",
        "outputId": "f74cd15d-2e00-4228-e215-9df491f05237"
      },
      "execution_count": null,
      "outputs": [
        {
          "output_type": "stream",
          "name": "stdout",
          "text": [
            "Ridge Lambda: 0.0\n",
            "TEST MSE 7.405884449854986\n",
            "round  0 RIDGE MSE: 6.4216\n",
            "round  1 RIDGE MSE: 6.59567\n",
            "round  2 RIDGE MSE: 6.26121\n",
            "round  3 RIDGE MSE: 5.58558\n",
            "round  4 RIDGE MSE: 6.43395\n",
            "Average Cross Validation RIDGE MSE: 6.2596\n"
          ]
        }
      ]
    },
    {
      "cell_type": "code",
      "source": [],
      "metadata": {
        "id": "yARbIxspdtuN"
      },
      "execution_count": null,
      "outputs": []
    },
    {
      "cell_type": "code",
      "source": [
        "error_rate = []\n",
        "error_rate = []\n",
        "alpha_list = np.linspace(0,10,20).tolist()\n",
        "for i in  alpha_list:\n",
        "  ridge_reg = Ridge(alpha = i)\n",
        "  ridge_reg.fit(x_train,y_train)\n",
        "  pred_i = ridge_reg.predict(x_test)\n",
        "  error_rate.append(mean_squared_error(y_test,pred_i))\n",
        "print(f\"Minimum mse is {min(error_rate)} \")\n",
        "print(f\"Lambda for minimum mse is {int(alpha_list[error_rate.index(min(error_rate))])} \")\n",
        "plt.figure(figsize=(10,6))\n",
        "plt.plot(np.linspace(-10,10,20),error_rate,color='blue', linestyle='dashed', \n",
        "         marker='o',markerfacecolor='red', markersize=10)\n",
        "plt.title('Ridge Regression MSE vs λ Value')\n",
        "plt.xlabel('log(λ)')\n",
        "plt.ylabel('MSE')"
      ],
      "metadata": {
        "colab": {
          "base_uri": "https://localhost:8080/",
          "height": 459
        },
        "id": "7dv3Uu9edPse",
        "outputId": "fa07afcc-4eac-4df8-9122-4276e58e21d1"
      },
      "execution_count": null,
      "outputs": [
        {
          "output_type": "stream",
          "name": "stdout",
          "text": [
            "Minimum mse is 7.405884449854986 \n",
            "Lambda for minimum mse is 0 \n"
          ]
        },
        {
          "output_type": "execute_result",
          "data": {
            "text/plain": [
              "Text(0, 0.5, 'MSE')"
            ]
          },
          "metadata": {},
          "execution_count": 86
        },
        {
          "output_type": "display_data",
          "data": {
            "text/plain": [
              "<Figure size 720x432 with 1 Axes>"
            ],
            "image/png": "[encoded data removed]"
          },
          "metadata": {
            "needs_background": "light"
          }
        }
      ]
    },
    {
      "cell_type": "code",
      "source": [],
      "metadata": {
        "id": "_tIw2ajPHx4A"
      },
      "execution_count": null,
      "outputs": []
    },
    {
      "cell_type": "code",
      "source": [
        "error_rate = []\n",
        "alpha_list = np.linspace(0,10,20).tolist()\n",
        "for i in  alpha_list:\n",
        "  lasso_reg = Lasso(alpha = i)\n",
        "  lasso_reg.fit(x_train,y_train)\n",
        "  pred_i = lasso_reg.predict(x_test)\n",
        "  error_rate.append(mean_squared_error(y_test,pred_i))\n",
        "print(f\"Minimum mse is {min(error_rate)} \")\n",
        "print(f\"Lambda for minimum mse is {int(alpha_list[error_rate.index(min(error_rate))])} \")\n",
        "plt.figure(figsize=(10,6))\n",
        "plt.plot(np.linspace(0,10,20),error_rate,color='blue', linestyle='dashed', \n",
        "         marker='o',markerfacecolor='red', markersize=10)\n",
        "plt.title('Lasso Regression MSE vs λ Value')\n",
        "plt.xlabel('λ')\n",
        "plt.ylabel('MSE')"
      ],
      "metadata": {
        "colab": {
          "base_uri": "https://localhost:8080/",
          "height": 456
        },
        "id": "ui2YGA2ggTIa",
        "outputId": "d9bc138e-b985-4293-a3ea-54e276e5f600"
      },
      "execution_count": null,
      "outputs": [
        {
          "output_type": "stream",
          "name": "stdout",
          "text": [
            "Minimum mse is 7.42543511738193 \n",
            "Lambda for minimum mse is 0 \n"
          ]
        },
        {
          "output_type": "execute_result",
          "data": {
            "text/plain": [
              "Text(0, 0.5, 'MSE')"
            ]
          },
          "metadata": {},
          "execution_count": 280
        },
        {
          "output_type": "display_data",
          "data": {
            "text/plain": [
              "<Figure size 720x432 with 1 Axes>"
            ],
            "image/png": "[encoded data removed]"
          },
          "metadata": {
            "needs_background": "light"
          }
        }
      ]
    },
    {
      "cell_type": "code",
      "source": [
        "# Reason this output gives different alpha value to above is because lasso from sklearn is not supposed to be used with zero regularisation as this causes issues with convergence.\n",
        "lasso = LassoCV(cv=5)\n",
        "lasso.fit(x_train,y_train )\n",
        "print(f\"LASSO Lambda: {lasso.alpha_}\")\n",
        "lasso_pred = lasso.predict(x_test)\n",
        "print(\"TEST MSE\",mean_squared_error(y_test,lasso_pred))\n",
        "cv = KFold(n_splits=5)\n",
        "# Default values are 5 fold split.\n",
        "lasso_scores = []\n",
        "ridge_scores = []\n",
        "linear_scores = []\n",
        "for fold, (train_idx,test_idx) in enumerate(cv.split(x_train,y_train)):\n",
        "  train_x, valid_x = x_train.iloc[train_idx], x_train.iloc[test_idx]\n",
        "  train_y, valid_y = y_train.iloc[train_idx], y_train.iloc[test_idx]\n",
        "  lasso = LassoCV(cv=5).fit(train_x,train_y) \n",
        "\n",
        "  lasso_pred = lasso.predict(valid_x)\n",
        "  lasso_scores.append(mean_squared_error(valid_y, lasso_pred))\n",
        "  print(fold, \"LASSO MSE:\", round(mean_squared_error(valid_y, lasso_pred), 5))\n",
        "print(\"Average LASSO Cross Validation MSE:\", round(sum(lasso_scores)/len(lasso_scores), 5))"
      ],
      "metadata": {
        "colab": {
          "base_uri": "https://localhost:8080/"
        },
        "id": "Klc54qvGECMZ",
        "outputId": "83edb70a-a169-4eb9-f1dc-0e78a7ed9df4"
      },
      "execution_count": null,
      "outputs": [
        {
          "output_type": "stream",
          "name": "stdout",
          "text": [
            "LASSO Lambda: 0.024742720714581393\n",
            "TEST MSE 7.985219293347378\n",
            "0 LASSO MSE: 6.89707\n",
            "1 LASSO MSE: 7.0646\n",
            "2 LASSO MSE: 6.79187\n",
            "3 LASSO MSE: 6.08239\n",
            "4 LASSO MSE: 6.8865\n",
            "Average LASSO Cross Validation MSE: 6.74449\n"
          ]
        }
      ]
    },
    {
      "cell_type": "code",
      "source": [
        "\n",
        "enet_cv = ElasticNetCV(l1_ratio=[0.01,0.05,0.1,0.2,0.3,0.4,0.5,0.6,0.7,0.8,0.9,0.95,0.99,1], cv=5)\n",
        "enet_cv.fit(x_train, y_train)\n",
        "print(f\"Best alpha {enet_cv.alpha_}\")\n",
        "print(f\"Best l1_ratio {enet_cv.l1_ratio_}\")\n",
        "elastic_reg_pred = enet_cv.predict(x_test)\n",
        "print(\"ENET TEST MSE :\",mean_squared_error(y_test,elastic_reg_pred))\n",
        "cv = KFold(n_splits=5)\n",
        "# Default values are 5 fold split.\n",
        "enet_scores = []\n",
        "\n",
        "for fold, (train_idx,test_idx) in enumerate(cv.split(x_train,y_train)):\n",
        "  train_x, valid_x = x_train.iloc[train_idx], x_train.iloc[test_idx]\n",
        "  train_y, valid_y = y_train.iloc[train_idx], y_train.iloc[test_idx]\n",
        "  enet = ElasticNetCV(l1_ratio=[0.001,0.01,0.05,0.1,0.2,0.3,0.4,0.5,0.6,0.7,0.8,0.9,0.95,0.99,1], cv=5).fit(train_x,train_y)\n",
        "  enet_pred = enet.predict(valid_x)\n",
        "  enet_scores.append(mean_squared_error(valid_y, enet_pred))\n",
        "  print(fold, \"ENET MSE:\", round(mean_squared_error(valid_y, enet_pred), 5))\n",
        "print(\"Average ENET MSE:\", round(sum(enet_scores)/len(enet_scores), 5))"
      ],
      "metadata": {
        "colab": {
          "base_uri": "https://localhost:8080/"
        },
        "id": "paHjACBzJb7n",
        "outputId": "3e82ec3e-902a-4b2d-bca0-d5d6540c8bb9"
      },
      "execution_count": null,
      "outputs": [
        {
          "output_type": "stream",
          "name": "stdout",
          "text": [
            "Best alpha 0.024742720714581393\n",
            "Best l1_ratio 1.0\n",
            "ENET TEST MSE : 7.985219293347378\n",
            "0 ENET MSE: 6.89707\n",
            "1 ENET MSE: 7.0646\n",
            "2 ENET MSE: 6.79187\n",
            "3 ENET MSE: 6.08239\n",
            "4 ENET MSE: 6.8865\n",
            "Average ENET MSE: 6.74449\n"
          ]
        }
      ]
    },
    {
      "cell_type": "code",
      "source": [
        "error_rate = []\n",
        "for i in range (1,40):\n",
        "  KNN_reg = KNeighborsRegressor(n_neighbors=i)\n",
        "  KNN_reg.fit(x_train,y_train)\n",
        "  pred_i = KNN_reg.predict(x_test)\n",
        "  error_rate.append(mean_squared_error(y_test,pred_i))\n",
        "print(f\"Minimum index is {error_rate.index(min(error_rate)) + 1} \")\n",
        "print(f\"Lamba value of k neighbour = {error_rate.index(min(error_rate)) + 1} is {min(error_rate)}\")\n",
        "plt.figure(figsize=(10,6))\n",
        "plt.plot(range(1,40),error_rate,color='blue', linestyle='dashed', \n",
        "         marker='o',markerfacecolor='red', markersize=10)\n",
        "plt.title('KNN MSE vs. Number of Neighbours')\n",
        "plt.xlabel('Num Neighbours')\n",
        "plt.ylabel('Test MSE')"
      ],
      "metadata": {
        "id": "AXAE7WjgNCfG",
        "colab": {
          "base_uri": "https://localhost:8080/"
        },
        "outputId": "830f8f57-115f-4637-bef6-36cde72af978"
      },
      "execution_count": null,
      "outputs": [
        {
          "output_type": "stream",
          "name": "stdout",
          "text": [
            "Minimum index is 8 \n",
            "Lamba value of k neighbour = 8 is 0.2724120439555672\n"
          ]
        },
        {
          "output_type": "execute_result",
          "data": {
            "text/plain": [
              "Text(0, 0.5, 'Test MSE')"
            ]
          },
          "metadata": {},
          "execution_count": 281
        },
        {
          "output_type": "display_data",
          "data": {
            "text/plain": [
              "<Figure size 720x432 with 1 Axes>"
            ],
            "image/png": "[encoded data removed]"
          },
          "metadata": {
            "needs_background": "light"
          }
        }
      ]
    },
    {
      "cell_type": "code",
      "source": [
        "  KNN_reg = KNeighborsRegressor(n_neighbors=7)\n",
        "  KNN_reg.fit(x_train,y_train)\n",
        "  pred_i = KNN_reg.predict(x_test)\n",
        "  mean_squared_error(y_test,pred_i)"
      ],
      "metadata": {
        "colab": {
          "base_uri": "https://localhost:8080/"
        },
        "id": "OxKvlO2tC4wJ",
        "outputId": "8ffc7ba3-ded9-4608-c682-ba39a2b6ecec"
      },
      "execution_count": null,
      "outputs": [
        {
          "output_type": "execute_result",
          "data": {
            "text/plain": [
              "0.2750609347958794"
            ]
          },
          "metadata": {},
          "execution_count": 279
        }
      ]
    },
    {
      "cell_type": "code",
      "source": [
        "cv = KFold(n_splits=5)\n",
        "# Default values are 5 fold split.\n",
        "params4 = {'n_neighbors' : list(range(40)) }\n",
        "alphas = np.exp(np.linspace(-10,20,500)).tolist()\n",
        "alphas.append(0)\n",
        "ridge_cv = RidgeCV(alphas=alphas, cv=5)\n",
        "knn_scores = []\n",
        "enet_scores = []\n",
        "lasso_scores = []\n",
        "ridge_scores = []\n",
        "linear_scores = []\n",
        "for fold, (train_idx,test_idx) in enumerate(cv.split(x_train,y_train)):\n",
        "  train_x, valid_x = x_train.iloc[train_idx], x_train.iloc[test_idx]\n",
        "  train_y, valid_y = y_train.iloc[train_idx], y_train.iloc[test_idx]\n",
        "  knn01 = GridSearchCV(KNeighborsRegressor(), params4, scoring='neg_mean_squared_error', cv=cv, refit=True).fit(train_x,train_y)\n",
        "  enet = ElasticNetCV(l1_ratio=[0.001,0.01,0.05,0.1,0.2,0.3,0.4,0.5,0.6,0.7,0.8,0.9,0.95,0.99,1], cv=5).fit(train_x,train_y)\n",
        "  lasso = LassoCV(cv=5).fit(train_x,train_y)\n",
        "  ridge = RidgeCV(alphas=alphas, cv=5).fit(train_x,train_y)\n",
        "  linear = LinearRegression().fit(train_x,train_y)\n",
        "  knn_pred = knn01.best_estimator_.predict(valid_x)\n",
        "  enet_pred = enet.predict(valid_x)\n",
        "  lasso_pred = lasso.predict(valid_x)\n",
        "  ridge_pred = ridge.predict(valid_x)\n",
        "  linear_pred = linear.predict(valid_x)\n",
        "  knn_scores.append(mean_squared_error(valid_y, knn_pred))\n",
        "  enet_scores.append(mean_squared_error(valid_y, enet_pred))\n",
        "  lasso_scores.append(mean_squared_error(valid_y, lasso_pred))\n",
        "  ridge_scores.append(mean_squared_error(valid_y, ridge_pred))\n",
        "  linear_scores.append(mean_squared_error(valid_y, linear_pred))\n",
        "  print(fold, \"KNN MSE:\", round(mean_squared_error(valid_y, knn_pred), 5))\n",
        "  print(fold, \"ENET MSE:\", round(mean_squared_error(valid_y, enet_pred), 5))\n",
        "  print(fold, \"LASSO MSE:\", round(mean_squared_error(valid_y, lasso_pred), 5))\n",
        "  print(fold, \"RIDGE MSE:\", round(mean_squared_error(valid_y, ridge_pred), 5))\n",
        "  print(fold, \"LINEAR MSE:\", round(mean_squared_error(valid_y, linear_pred), 5))\n",
        "print( \"Average KNN MSE:\", round(sum(knn_scores)/len(knn_scores),5))\n",
        "print(\"Average ENET MSE:\", round(sum(enet_scores)/len(enet_scores), 5))\n",
        "print(\"Average LASSO MSE:\", round(sum(lasso_scores)/len(lasso_scores), 5))\n",
        "print(\"Average RIDGE MSE:\", round(sum(ridge_scores)/len(ridge_scores), 5))\n",
        "print(\"Average LINEAR MSE:\", round(sum(linear_scores)/len(linear_scores), 5))"
      ],
      "metadata": {
        "colab": {
          "base_uri": "https://localhost:8080/"
        },
        "id": "-sVwhkg7JPbk",
        "outputId": "18c00a50-d22b-498d-e6dc-5135388f43f7"
      },
      "execution_count": null,
      "outputs": [
        {
          "output_type": "stream",
          "name": "stdout",
          "text": [
            "0 KNN MSE: 0.36152\n",
            "0 ENET MSE: 6.89707\n",
            "0 LASSO MSE: 6.89707\n",
            "0 RIDGE MSE: 6.4216\n",
            "0 LINEAR MSE: 6.4216\n",
            "1 KNN MSE: 0.39151\n",
            "1 ENET MSE: 7.0646\n",
            "1 LASSO MSE: 7.0646\n",
            "1 RIDGE MSE: 6.59567\n",
            "1 LINEAR MSE: 6.59567\n",
            "2 KNN MSE: 0.3806\n",
            "2 ENET MSE: 6.79187\n",
            "2 LASSO MSE: 6.79187\n",
            "2 RIDGE MSE: 6.26121\n",
            "2 LINEAR MSE: 6.26121\n",
            "3 KNN MSE: 0.36847\n",
            "3 ENET MSE: 6.08239\n",
            "3 LASSO MSE: 6.08239\n",
            "3 RIDGE MSE: 5.58558\n",
            "3 LINEAR MSE: 5.58558\n",
            "4 KNN MSE: 0.36607\n",
            "4 ENET MSE: 6.8865\n",
            "4 LASSO MSE: 6.8865\n",
            "4 RIDGE MSE: 6.43395\n",
            "4 LINEAR MSE: 6.43395\n",
            "Average KNN MSE: 0.37363\n",
            "Average ENET MSE: 6.74449\n",
            "Average LASSO MSE: 6.74449\n",
            "Average RIDGE MSE: 6.2596\n",
            "Average LINEAR MSE: 6.2596\n"
          ]
        }
      ]
    },
    {
      "cell_type": "code",
      "source": [
        "KNN_reg = KNeighborsRegressor(n_neighbors=8)\n",
        "\n",
        "KNN_reg.fit(x_train,y_train)\n",
        "KNN_reg_pred = KNN_reg.predict(x_test)\n",
        "print(\"KNN Test MSE \",mean_squared_error(y_test,KNN_reg_pred))\n",
        "cv = KFold(n_splits=5)\n",
        "# Default values are 5 fold split.\n",
        "params4 = {'n_neighbors' : list(range(40)) }\n",
        "knn_scores = []\n",
        "for fold, (train_idx,test_idx) in enumerate(cv.split(x_train,y_train)):\n",
        "  train_x, valid_x = x_train.iloc[train_idx], x_train.iloc[test_idx]\n",
        "  train_y, valid_y = y_train.iloc[train_idx], y_train.iloc[test_idx]\n",
        "  knn01 = GridSearchCV(KNeighborsRegressor(), params4, scoring='neg_mean_squared_error', cv=cv, refit=True).fit(train_x,train_y)\n",
        "  knn_pred = knn01.best_estimator_.predict(valid_x)\n",
        "  knn_scores.append(mean_squared_error(valid_y, knn_pred))\n",
        "  print(fold, \"KNN MSE:\", round(mean_squared_error(valid_y, knn_pred), 5))\n",
        "  print(knn01.best_estimator_)\n",
        "print( \"Average KNN Cross-Validation MSE:\", round(sum(knn_scores)/len(knn_scores),5))"
      ],
      "metadata": {
        "colab": {
          "base_uri": "https://localhost:8080/"
        },
        "id": "O0CL7Fao1g2i",
        "outputId": "84960e07-e285-4f38-8c90-fa3cf1ba0d52"
      },
      "execution_count": null,
      "outputs": [
        {
          "output_type": "stream",
          "name": "stdout",
          "text": [
            "KNN Test MSE  0.2724120439555672\n",
            "0 KNN MSE: 0.36152\n",
            "KNeighborsRegressor(n_neighbors=4)\n",
            "1 KNN MSE: 0.39151\n",
            "KNeighborsRegressor(n_neighbors=4)\n",
            "2 KNN MSE: 0.3806\n",
            "KNeighborsRegressor(n_neighbors=4)\n",
            "3 KNN MSE: 0.36847\n",
            "KNeighborsRegressor(n_neighbors=4)\n",
            "4 KNN MSE: 0.36607\n",
            "KNeighborsRegressor(n_neighbors=4)\n",
            "Average KNN Cross-Validation MSE: 0.37363\n"
          ]
        }
      ]
    },
    {
      "cell_type": "code",
      "source": [
        "\n",
        "lin_reg = RFECV(LinearRegression(), step=1, scoring='neg_mean_squared_error', cv=5)\n",
        "lin_reg.fit(x_train, y_train)\n",
        "lin_reg_pred = lin_reg.predict(x_test)\n",
        "plt.title('Linear Regression')\n",
        "plt.xlabel('Total features selected')\n",
        "plt.ylabel('MSE score')\n",
        "plt.plot(range(1, len(lin_reg.grid_scores_) + 1), -lin_reg.grid_scores_)\n",
        "plt.show()\n",
        "x_train_lin_reg = lin_reg.transform(x_train)"
      ],
      "metadata": {
        "colab": {
          "base_uri": "https://localhost:8080/",
          "height": 295
        },
        "id": "qHczVO7V-CBY",
        "outputId": "8bf80e36-ac1a-4c42-eb1c-3e5468960643"
      },
      "execution_count": null,
      "outputs": [
        {
          "output_type": "display_data",
          "data": {
            "text/plain": [
              "<Figure size 432x288 with 1 Axes>"
            ],
            "image/png": "[encoded data removed]"
          },
          "metadata": {
            "needs_background": "light"
          }
        }
      ]
    },
    {
      "cell_type": "code",
      "source": [
        "# Lasso already takes the number of features into account through lambda values.\n",
        "lasso_reg = RFECV(Lasso(), step=1, scoring='neg_mean_squared_error', cv=5)\n",
        "lasso_reg.fit(x_train, y_train)\n",
        "lasso_reg_pred = lasso_reg.predict(x_test)\n",
        "plt.title('Lasso Regression')\n",
        "plt.xlabel('Total features selected')\n",
        "plt.ylabel('Negated MSE score')\n",
        "plt.plot(range(1, len(lasso_reg.grid_scores_) + 1), -lasso_reg.grid_scores_)\n",
        "plt.show()\n",
        "x_train_lasso_reg = lasso_reg.transform(x_train)"
      ],
      "metadata": {
        "colab": {
          "base_uri": "https://localhost:8080/",
          "height": 295
        },
        "id": "cl_0TGFOOmiW",
        "outputId": "26575ae2-26c9-44b5-8733-37ee195a1cbc"
      },
      "execution_count": null,
      "outputs": [
        {
          "output_type": "display_data",
          "data": {
            "text/plain": [
              "<Figure size 432x288 with 1 Axes>"
            ],
            "image/png": "[encoded data removed]"
          },
          "metadata": {
            "needs_background": "light"
          }
        }
      ]
    },
    {
      "cell_type": "code",
      "source": [
        "# Ridge already takes the number of features into account through lambda values.\n",
        "ridge_reg = RFECV(Ridge(), step=1, scoring='neg_mean_squared_error', cv=5)\n",
        "ridge_reg.fit(x_train, y_train)\n",
        "ridge_reg_pred = ridge_reg.predict(x_test)\n",
        "plt.title('Ridge Regression')\n",
        "plt.xlabel('Total features selected')\n",
        "plt.ylabel('Negated MSE score')\n",
        "plt.plot(range(1, len(ridge_reg.grid_scores_) + 1),- ridge_reg.grid_scores_)\n",
        "plt.show()\n",
        "x_train_ridge_reg = ridge_reg.transform(x_train)"
      ],
      "metadata": {
        "colab": {
          "base_uri": "https://localhost:8080/",
          "height": 295
        },
        "id": "QjclimcVPEpd",
        "outputId": "8f805af2-3d0a-4178-8a8c-28412add02fe"
      },
      "execution_count": null,
      "outputs": [
        {
          "output_type": "display_data",
          "data": {
            "text/plain": [
              "<Figure size 432x288 with 1 Axes>"
            ],
            "image/png": "[encoded data removed]"
          },
          "metadata": {
            "needs_background": "light"
          }
        }
      ]
    },
    {
      "cell_type": "code",
      "source": [
        "ATM_test = pd.read_csv('ATM_test.csv')\n",
        "ATM_train = pd.read_csv('ATM_training.csv')\n",
        "\n",
        "train_size = int(len(ATM_train)*0.8)\n",
        "x = ATM_train.drop(['Withdraw'],axis=1)\n",
        "y = ATM_train['Withdraw']\n",
        "scaling = StandardScaler().fit(x)\n",
        "x[['Shops', 'ATMs', 'Downtown', 'Weekday', 'Center', 'High']] = scaling.transform(x)\n",
        "\n",
        "x_train = x[:train_size]\n",
        "x_test = x[train_size:]\n",
        "y_train = y[:train_size]\n",
        "y_test = y[train_size:]\n",
        "\n",
        "NN1 = Sequential()\n",
        "NN1.add(Dense(14, kernel_initializer='normal',input_dim = x_train.shape[1], activation='relu'))\n",
        "NN1.add(Dense(6, input_dim = 10, activation='relu'))\n",
        "NN1.add(Dense(1))\n",
        "NN1.compile(loss='mean_squared_error', optimizer='adam')\n",
        "\n",
        "\n"
      ],
      "metadata": {
        "id": "_a-MGNzcGvVY"
      },
      "execution_count": null,
      "outputs": []
    },
    {
      "cell_type": "code",
      "source": [
        "NN1.summary()"
      ],
      "metadata": {
        "colab": {
          "base_uri": "https://localhost:8080/"
        },
        "id": "3Dd6wO7Mmc_8",
        "outputId": "a3224d4b-c76f-4a1c-aa28-0ece99621edb"
      },
      "execution_count": null,
      "outputs": [
        {
          "output_type": "stream",
          "name": "stdout",
          "text": [
            "Model: \"sequential_35\"\n",
            "_________________________________________________________________\n",
            " Layer (type)                Output Shape              Param #   \n",
            "=================================================================\n",
            " dense_81 (Dense)            (None, 14)                98        \n",
            "                                                                 \n",
            " dense_82 (Dense)            (None, 6)                 90        \n",
            "                                                                 \n",
            " dense_83 (Dense)            (None, 1)                 7         \n",
            "                                                                 \n",
            "=================================================================\n",
            "Total params: 195\n",
            "Trainable params: 195\n",
            "Non-trainable params: 0\n",
            "_________________________________________________________________\n"
          ]
        }
      ]
    },
    {
      "cell_type": "code",
      "source": [
        "NN1.fit(x_train, y_train, epochs=100, batch_size=20 , verbose=1)"
      ],
      "metadata": {
        "colab": {
          "base_uri": "https://localhost:8080/"
        },
        "id": "3aXtdeYwmrZT",
        "outputId": "51081584-b5e6-4337-c662-a91b6f0b21d9"
      },
      "execution_count": null,
      "outputs": [
        {
          "output_type": "stream",
          "name": "stdout",
          "text": [
            "Epoch 1/100\n",
            "880/880 [==============================] - 2s 2ms/step - loss: 1074.9432\n",
            "Epoch 2/100\n",
            "880/880 [==============================] - 2s 2ms/step - loss: 8.3560\n",
            "Epoch 3/100\n",
            "880/880 [==============================] - 2s 2ms/step - loss: 3.8317\n",
            "Epoch 4/100\n",
            "880/880 [==============================] - 2s 2ms/step - loss: 2.0817\n",
            "Epoch 5/100\n",
            "880/880 [==============================] - 2s 2ms/step - loss: 1.1870\n",
            "Epoch 6/100\n",
            "880/880 [==============================] - 4s 4ms/step - loss: 0.8487\n",
            "Epoch 7/100\n",
            "880/880 [==============================] - 4s 5ms/step - loss: 0.6597\n",
            "Epoch 8/100\n",
            "880/880 [==============================] - 5s 5ms/step - loss: 0.5350\n",
            "Epoch 9/100\n",
            "880/880 [==============================] - 2s 2ms/step - loss: 0.4410\n",
            "Epoch 10/100\n",
            "880/880 [==============================] - 2s 2ms/step - loss: 0.3778\n",
            "Epoch 11/100\n",
            "880/880 [==============================] - 2s 2ms/step - loss: 0.3445\n",
            "Epoch 12/100\n",
            "880/880 [==============================] - 2s 2ms/step - loss: 0.3262\n",
            "Epoch 13/100\n",
            "880/880 [==============================] - 2s 2ms/step - loss: 0.3226\n",
            "Epoch 14/100\n",
            "880/880 [==============================] - 2s 2ms/step - loss: 0.3168\n",
            "Epoch 15/100\n",
            "880/880 [==============================] - 2s 2ms/step - loss: 0.3183\n",
            "Epoch 16/100\n",
            "880/880 [==============================] - 2s 2ms/step - loss: 0.3146\n",
            "Epoch 17/100\n",
            "880/880 [==============================] - 2s 2ms/step - loss: 0.3156\n",
            "Epoch 18/100\n",
            "880/880 [==============================] - 2s 2ms/step - loss: 0.3129\n",
            "Epoch 19/100\n",
            "880/880 [==============================] - 2s 2ms/step - loss: 0.3192\n",
            "Epoch 20/100\n",
            "880/880 [==============================] - 2s 2ms/step - loss: 0.3157\n",
            "Epoch 21/100\n",
            "880/880 [==============================] - 2s 2ms/step - loss: 0.3146\n",
            "Epoch 22/100\n",
            "880/880 [==============================] - 2s 2ms/step - loss: 0.3101\n",
            "Epoch 23/100\n",
            "880/880 [==============================] - 2s 2ms/step - loss: 0.3119\n",
            "Epoch 24/100\n",
            "880/880 [==============================] - 2s 2ms/step - loss: 0.3097\n",
            "Epoch 25/100\n",
            "880/880 [==============================] - 2s 2ms/step - loss: 0.3119\n",
            "Epoch 26/100\n",
            "880/880 [==============================] - 2s 2ms/step - loss: 0.3125\n",
            "Epoch 27/100\n",
            "880/880 [==============================] - 2s 2ms/step - loss: 0.3087\n",
            "Epoch 28/100\n",
            "880/880 [==============================] - 2s 2ms/step - loss: 0.3079\n",
            "Epoch 29/100\n",
            "880/880 [==============================] - 2s 2ms/step - loss: 0.3114\n",
            "Epoch 30/100\n",
            "880/880 [==============================] - 2s 2ms/step - loss: 0.3084\n",
            "Epoch 31/100\n",
            "880/880 [==============================] - 2s 2ms/step - loss: 0.3090\n",
            "Epoch 32/100\n",
            "880/880 [==============================] - 3s 4ms/step - loss: 0.3085\n",
            "Epoch 33/100\n",
            "880/880 [==============================] - 2s 3ms/step - loss: 0.3078\n",
            "Epoch 34/100\n",
            "880/880 [==============================] - 2s 2ms/step - loss: 0.3074\n",
            "Epoch 35/100\n",
            "880/880 [==============================] - 2s 2ms/step - loss: 0.3106\n",
            "Epoch 36/100\n",
            "880/880 [==============================] - 2s 2ms/step - loss: 0.3057\n",
            "Epoch 37/100\n",
            "880/880 [==============================] - 2s 2ms/step - loss: 0.3063\n",
            "Epoch 38/100\n",
            "880/880 [==============================] - 2s 2ms/step - loss: 0.3076\n",
            "Epoch 39/100\n",
            "880/880 [==============================] - 2s 2ms/step - loss: 0.3069\n",
            "Epoch 40/100\n",
            "880/880 [==============================] - 2s 2ms/step - loss: 0.3036\n",
            "Epoch 41/100\n",
            "880/880 [==============================] - 2s 2ms/step - loss: 0.3084\n",
            "Epoch 42/100\n",
            "880/880 [==============================] - 2s 2ms/step - loss: 0.3065\n",
            "Epoch 43/100\n",
            "880/880 [==============================] - 2s 2ms/step - loss: 0.3036\n",
            "Epoch 44/100\n",
            "880/880 [==============================] - 2s 2ms/step - loss: 0.3090\n",
            "Epoch 45/100\n",
            "880/880 [==============================] - 2s 2ms/step - loss: 0.3044\n",
            "Epoch 46/100\n",
            "880/880 [==============================] - 2s 2ms/step - loss: 0.3058\n",
            "Epoch 47/100\n",
            "880/880 [==============================] - 2s 2ms/step - loss: 0.3054\n",
            "Epoch 48/100\n",
            "880/880 [==============================] - 2s 2ms/step - loss: 0.3040\n",
            "Epoch 49/100\n",
            "880/880 [==============================] - 2s 2ms/step - loss: 0.3058\n",
            "Epoch 50/100\n",
            "880/880 [==============================] - 2s 2ms/step - loss: 0.3063\n",
            "Epoch 51/100\n",
            "880/880 [==============================] - 2s 2ms/step - loss: 0.3035\n",
            "Epoch 52/100\n",
            "880/880 [==============================] - 2s 2ms/step - loss: 0.3068\n",
            "Epoch 53/100\n",
            "880/880 [==============================] - 2s 2ms/step - loss: 0.2991\n",
            "Epoch 54/100\n",
            "880/880 [==============================] - 2s 2ms/step - loss: 0.3070\n",
            "Epoch 55/100\n",
            "880/880 [==============================] - 2s 2ms/step - loss: 0.3052\n",
            "Epoch 56/100\n",
            "880/880 [==============================] - 3s 3ms/step - loss: 0.3019\n",
            "Epoch 57/100\n",
            "880/880 [==============================] - 3s 3ms/step - loss: 0.3025\n",
            "Epoch 58/100\n",
            "880/880 [==============================] - 2s 2ms/step - loss: 0.3014\n",
            "Epoch 59/100\n",
            "880/880 [==============================] - 2s 2ms/step - loss: 0.3030\n",
            "Epoch 60/100\n",
            "880/880 [==============================] - 2s 2ms/step - loss: 0.2971\n",
            "Epoch 61/100\n",
            "880/880 [==============================] - 2s 2ms/step - loss: 0.3015\n",
            "Epoch 62/100\n",
            "880/880 [==============================] - 2s 2ms/step - loss: 0.3003\n",
            "Epoch 63/100\n",
            "880/880 [==============================] - 2s 2ms/step - loss: 0.2989\n",
            "Epoch 64/100\n",
            "880/880 [==============================] - 2s 2ms/step - loss: 0.3039\n",
            "Epoch 65/100\n",
            "880/880 [==============================] - 2s 2ms/step - loss: 0.3012\n",
            "Epoch 66/100\n",
            "880/880 [==============================] - 2s 2ms/step - loss: 0.3023\n",
            "Epoch 67/100\n",
            "880/880 [==============================] - 2s 2ms/step - loss: 0.3057\n",
            "Epoch 68/100\n",
            "880/880 [==============================] - 2s 2ms/step - loss: 0.3044\n",
            "Epoch 69/100\n",
            "880/880 [==============================] - 2s 2ms/step - loss: 0.3005\n",
            "Epoch 70/100\n",
            "880/880 [==============================] - 2s 2ms/step - loss: 0.2980\n",
            "Epoch 71/100\n",
            "880/880 [==============================] - 2s 2ms/step - loss: 0.2969\n",
            "Epoch 72/100\n",
            "880/880 [==============================] - 2s 2ms/step - loss: 0.3000\n",
            "Epoch 73/100\n",
            "880/880 [==============================] - 2s 2ms/step - loss: 0.2998\n",
            "Epoch 74/100\n",
            "880/880 [==============================] - 2s 2ms/step - loss: 0.2992\n",
            "Epoch 75/100\n",
            "880/880 [==============================] - 2s 2ms/step - loss: 0.3015\n",
            "Epoch 76/100\n",
            "880/880 [==============================] - 2s 2ms/step - loss: 0.2993\n",
            "Epoch 77/100\n",
            "880/880 [==============================] - 2s 2ms/step - loss: 0.2991\n",
            "Epoch 78/100\n",
            "880/880 [==============================] - 2s 2ms/step - loss: 0.2953\n",
            "Epoch 79/100\n",
            "880/880 [==============================] - 2s 2ms/step - loss: 0.2939\n",
            "Epoch 80/100\n",
            "880/880 [==============================] - 3s 3ms/step - loss: 0.2835\n",
            "Epoch 81/100\n",
            "880/880 [==============================] - 3s 3ms/step - loss: 0.2843\n",
            "Epoch 82/100\n",
            "880/880 [==============================] - 2s 2ms/step - loss: 0.2804\n",
            "Epoch 83/100\n",
            "880/880 [==============================] - 3s 4ms/step - loss: 0.2797\n",
            "Epoch 84/100\n",
            "880/880 [==============================] - 4s 5ms/step - loss: 0.2792\n",
            "Epoch 85/100\n",
            "880/880 [==============================] - 4s 4ms/step - loss: 0.2799\n",
            "Epoch 86/100\n",
            "880/880 [==============================] - 3s 3ms/step - loss: 0.2831\n",
            "Epoch 87/100\n",
            "880/880 [==============================] - 2s 2ms/step - loss: 0.2825\n",
            "Epoch 88/100\n",
            "880/880 [==============================] - 2s 2ms/step - loss: 0.2803\n",
            "Epoch 89/100\n",
            "880/880 [==============================] - 2s 2ms/step - loss: 0.2845\n",
            "Epoch 90/100\n",
            "880/880 [==============================] - 2s 2ms/step - loss: 0.2799\n",
            "Epoch 91/100\n",
            "880/880 [==============================] - 2s 2ms/step - loss: 0.2785\n",
            "Epoch 92/100\n",
            "880/880 [==============================] - 2s 2ms/step - loss: 0.2786\n",
            "Epoch 93/100\n",
            "880/880 [==============================] - 2s 2ms/step - loss: 0.2805\n",
            "Epoch 94/100\n",
            "880/880 [==============================] - 2s 2ms/step - loss: 0.2789\n",
            "Epoch 95/100\n",
            "880/880 [==============================] - 2s 2ms/step - loss: 0.2797\n",
            "Epoch 96/100\n",
            "880/880 [==============================] - 2s 2ms/step - loss: 0.2806\n",
            "Epoch 97/100\n",
            "880/880 [==============================] - 2s 2ms/step - loss: 0.2802\n",
            "Epoch 98/100\n",
            "880/880 [==============================] - 2s 2ms/step - loss: 0.2798\n",
            "Epoch 99/100\n",
            "880/880 [==============================] - 2s 2ms/step - loss: 0.2831\n",
            "Epoch 100/100\n",
            "880/880 [==============================] - 3s 3ms/step - loss: 0.2815\n"
          ]
        },
        {
          "output_type": "execute_result",
          "data": {
            "text/plain": [
              "<keras.callbacks.History at 0x7fcf22d58e50>"
            ]
          },
          "metadata": {},
          "execution_count": 226
        }
      ]
    },
    {
      "cell_type": "code",
      "source": [
        "allPredict1 = NN1.predict(x)\n"
      ],
      "metadata": {
        "colab": {
          "base_uri": "https://localhost:8080/"
        },
        "id": "EAoV28vLLpMz",
        "outputId": "82b1f568-589a-4eab-fc71-3ced9f86701b"
      },
      "execution_count": null,
      "outputs": [
        {
          "output_type": "stream",
          "name": "stdout",
          "text": [
            "688/688 [==============================] - 1s 1ms/step\n"
          ]
        }
      ]
    },
    {
      "cell_type": "code",
      "source": [
        "trainScore_not_scaled1 = 0\n",
        "trainScore_not_scaled1 = (mean_squared_error(y[:train_size], allPredict1[:train_size, 0]))\n",
        "print('Model 1: Training Data MSE on original scale: {0:.4f}'.format(trainScore_not_scaled1))"
      ],
      "metadata": {
        "colab": {
          "base_uri": "https://localhost:8080/"
        },
        "id": "VZIgUvCNm7Px",
        "outputId": "52316390-6aa3-47e7-dcbb-901d8df1bb01"
      },
      "execution_count": null,
      "outputs": [
        {
          "output_type": "stream",
          "name": "stdout",
          "text": [
            "Model 1: Training Data MSE on original scale: 0.2735\n"
          ]
        }
      ]
    },
    {
      "cell_type": "code",
      "source": [
        "valScore_not_scaled1 = 0\n",
        "valScore_not_scaled1 = (mean_squared_error(y[train_size:], allPredict1[train_size:,0]))\n",
        "print('Model 1: Validation Data MSE original scale: {0:.4f}'.format(valScore_not_scaled1))"
      ],
      "metadata": {
        "colab": {
          "base_uri": "https://localhost:8080/"
        },
        "id": "qyTdPUljm9wF",
        "outputId": "61e23e68-0f70-4871-9e97-91ffaa5cd06c"
      },
      "execution_count": null,
      "outputs": [
        {
          "output_type": "stream",
          "name": "stdout",
          "text": [
            "Model 1: Validation Data MSE original scale: 0.2678\n"
          ]
        }
      ]
    },
    {
      "cell_type": "code",
      "source": [
        "ATM_test = pd.read_csv('ATM_test.csv')\n",
        "\n",
        "x_test = ATM_test.drop(['Withdraw'],axis=1)\n",
        "y_test = ATM_test['Withdraw']\n",
        "x_test[['Shops', 'ATMs', 'Downtown', 'Weekday', 'Center', 'High']] = scaling.transform(x_test)\n",
        "allPredict1 = NN1.predict(x_test)\n",
        "test_error = (mean_squared_error(y_test,allPredict1 ))\n",
        "print('Model 1: Test Data MSE original scale: {0:.4f}'.format(test_error))"
      ],
      "metadata": {
        "colab": {
          "base_uri": "https://localhost:8080/"
        },
        "id": "NgjzVyRNnAJf",
        "outputId": "69ea404f-0aef-498e-c5f6-2fbca57000e4"
      },
      "execution_count": null,
      "outputs": [
        {
          "output_type": "stream",
          "name": "stdout",
          "text": [
            "5/5 [==============================] - 0s 3ms/step\n",
            "Model 1: Test Data MSE on original scale: 0.2484\n"
          ]
        }
      ]
    },
    {
      "cell_type": "code",
      "source": [
        "ATM_test = pd.read_csv('ATM_test.csv')\n",
        "ATM_train = pd.read_csv('ATM_training.csv')\n",
        "\n",
        "train_size = int(len(ATM_train)*0.8)\n",
        "x = ATM_train.drop(['Withdraw'],axis=1)\n",
        "y = ATM_train['Withdraw']\n",
        "scaling = StandardScaler().fit(x)\n",
        "x[['Shops', 'ATMs', 'Downtown', 'Weekday', 'Center', 'High']] = scaling.transform(x)\n",
        "\n",
        "x_train = x[:train_size]\n",
        "x_test = x[train_size:]\n",
        "y_train = y[:train_size]\n",
        "y_test = y[train_size:]\n",
        "\n",
        "NN2 = Sequential()\n",
        "NN2.add(Dense(20, input_dim = x_train.shape[1], activation='relu'))\n",
        "NN2.add(Dense(1))\n",
        "NN2.compile(loss='mean_squared_error', optimizer='adam')\n",
        "\n"
      ],
      "metadata": {
        "id": "wm_N6e1S3Vcq"
      },
      "execution_count": null,
      "outputs": []
    },
    {
      "cell_type": "code",
      "source": [
        "NN2.summary()"
      ],
      "metadata": {
        "colab": {
          "base_uri": "https://localhost:8080/"
        },
        "id": "YSNtM9wE3lt_",
        "outputId": "15d7a6a9-fe31-49a4-f10c-b11dde4ca01a"
      },
      "execution_count": null,
      "outputs": [
        {
          "output_type": "stream",
          "name": "stdout",
          "text": [
            "Model: \"sequential_36\"\n",
            "_________________________________________________________________\n",
            " Layer (type)                Output Shape              Param #   \n",
            "=================================================================\n",
            " dense_84 (Dense)            (None, 20)                140       \n",
            "                                                                 \n",
            " dense_85 (Dense)            (None, 1)                 21        \n",
            "                                                                 \n",
            "=================================================================\n",
            "Total params: 161\n",
            "Trainable params: 161\n",
            "Non-trainable params: 0\n",
            "_________________________________________________________________\n"
          ]
        }
      ]
    },
    {
      "cell_type": "code",
      "source": [
        "NN2.fit(x_train, y_train, epochs=100, batch_size=20 , verbose=1)"
      ],
      "metadata": {
        "colab": {
          "base_uri": "https://localhost:8080/"
        },
        "id": "cHuSpLdu3okl",
        "outputId": "5c6a8d74-31fd-485f-a612-5eca5db8c30d"
      },
      "execution_count": null,
      "outputs": [
        {
          "output_type": "stream",
          "name": "stdout",
          "text": [
            "Epoch 1/100\n",
            "880/880 [==============================] - 2s 2ms/step - loss: 2243.0017\n",
            "Epoch 2/100\n",
            "880/880 [==============================] - 2s 2ms/step - loss: 168.8527\n",
            "Epoch 3/100\n",
            "880/880 [==============================] - 1s 2ms/step - loss: 30.0997\n",
            "Epoch 4/100\n",
            "880/880 [==============================] - 2s 2ms/step - loss: 7.3581\n",
            "Epoch 5/100\n",
            "880/880 [==============================] - 1s 2ms/step - loss: 3.1412\n",
            "Epoch 6/100\n",
            "880/880 [==============================] - 2s 2ms/step - loss: 1.5881\n",
            "Epoch 7/100\n",
            "880/880 [==============================] - 2s 2ms/step - loss: 0.8858\n",
            "Epoch 8/100\n",
            "880/880 [==============================] - 1s 2ms/step - loss: 0.6435\n",
            "Epoch 9/100\n",
            "880/880 [==============================] - 1s 2ms/step - loss: 0.5439\n",
            "Epoch 10/100\n",
            "880/880 [==============================] - 1s 2ms/step - loss: 0.4808\n",
            "Epoch 11/100\n",
            "880/880 [==============================] - 2s 3ms/step - loss: 0.4312\n",
            "Epoch 12/100\n",
            "880/880 [==============================] - 1s 2ms/step - loss: 0.3866\n",
            "Epoch 13/100\n",
            "880/880 [==============================] - 1s 2ms/step - loss: 0.3552\n",
            "Epoch 14/100\n",
            "880/880 [==============================] - 1s 2ms/step - loss: 0.3320\n",
            "Epoch 15/100\n",
            "880/880 [==============================] - 1s 2ms/step - loss: 0.3171\n",
            "Epoch 16/100\n",
            "880/880 [==============================] - 1s 2ms/step - loss: 0.3071\n",
            "Epoch 17/100\n",
            "880/880 [==============================] - 1s 2ms/step - loss: 0.3024\n",
            "Epoch 18/100\n",
            "880/880 [==============================] - 1s 2ms/step - loss: 0.2968\n",
            "Epoch 19/100\n",
            "880/880 [==============================] - 1s 2ms/step - loss: 0.2970\n",
            "Epoch 20/100\n",
            "880/880 [==============================] - 1s 2ms/step - loss: 0.2934\n",
            "Epoch 21/100\n",
            "880/880 [==============================] - 1s 2ms/step - loss: 0.2925\n",
            "Epoch 22/100\n",
            "880/880 [==============================] - 2s 2ms/step - loss: 0.2908\n",
            "Epoch 23/100\n",
            "880/880 [==============================] - 2s 2ms/step - loss: 0.2900\n",
            "Epoch 24/100\n",
            "880/880 [==============================] - 2s 2ms/step - loss: 0.2887\n",
            "Epoch 25/100\n",
            "880/880 [==============================] - 1s 2ms/step - loss: 0.2888\n",
            "Epoch 26/100\n",
            "880/880 [==============================] - 1s 2ms/step - loss: 0.2890\n",
            "Epoch 27/100\n",
            "880/880 [==============================] - 1s 2ms/step - loss: 0.2882\n",
            "Epoch 28/100\n",
            "880/880 [==============================] - 1s 2ms/step - loss: 0.2874\n",
            "Epoch 29/100\n",
            "880/880 [==============================] - 1s 2ms/step - loss: 0.2857\n",
            "Epoch 30/100\n",
            "880/880 [==============================] - 1s 2ms/step - loss: 0.2849\n",
            "Epoch 31/100\n",
            "880/880 [==============================] - 2s 2ms/step - loss: 0.2861\n",
            "Epoch 32/100\n",
            "880/880 [==============================] - 1s 2ms/step - loss: 0.2846\n",
            "Epoch 33/100\n",
            "880/880 [==============================] - 1s 2ms/step - loss: 0.2865\n",
            "Epoch 34/100\n",
            "880/880 [==============================] - 1s 2ms/step - loss: 0.2840\n",
            "Epoch 35/100\n",
            "880/880 [==============================] - 1s 2ms/step - loss: 0.2847\n",
            "Epoch 36/100\n",
            "880/880 [==============================] - 1s 2ms/step - loss: 0.2833\n",
            "Epoch 37/100\n",
            "880/880 [==============================] - 1s 2ms/step - loss: 0.2818\n",
            "Epoch 38/100\n",
            "880/880 [==============================] - 1s 2ms/step - loss: 0.2813\n",
            "Epoch 39/100\n",
            "880/880 [==============================] - 1s 2ms/step - loss: 0.2826\n",
            "Epoch 40/100\n",
            "880/880 [==============================] - 1s 2ms/step - loss: 0.2810\n",
            "Epoch 41/100\n",
            "880/880 [==============================] - 1s 2ms/step - loss: 0.2809\n",
            "Epoch 42/100\n",
            "880/880 [==============================] - 1s 2ms/step - loss: 0.2810\n",
            "Epoch 43/100\n",
            "880/880 [==============================] - 1s 2ms/step - loss: 0.2806\n",
            "Epoch 44/100\n",
            "880/880 [==============================] - 1s 2ms/step - loss: 0.2808\n",
            "Epoch 45/100\n",
            "880/880 [==============================] - 1s 2ms/step - loss: 0.2801\n",
            "Epoch 46/100\n",
            "880/880 [==============================] - 2s 2ms/step - loss: 0.2793\n",
            "Epoch 47/100\n",
            "880/880 [==============================] - 1s 2ms/step - loss: 0.2813\n",
            "Epoch 48/100\n",
            "880/880 [==============================] - 1s 2ms/step - loss: 0.2768\n",
            "Epoch 49/100\n",
            "880/880 [==============================] - 1s 2ms/step - loss: 0.2779\n",
            "Epoch 50/100\n",
            "880/880 [==============================] - 1s 2ms/step - loss: 0.2782\n",
            "Epoch 51/100\n",
            "880/880 [==============================] - 1s 2ms/step - loss: 0.2762\n",
            "Epoch 52/100\n",
            "880/880 [==============================] - 2s 2ms/step - loss: 0.2774\n",
            "Epoch 53/100\n",
            "880/880 [==============================] - 2s 3ms/step - loss: 0.2753\n",
            "Epoch 54/100\n",
            "880/880 [==============================] - 2s 2ms/step - loss: 0.2767\n",
            "Epoch 55/100\n",
            "880/880 [==============================] - 1s 2ms/step - loss: 0.2767\n",
            "Epoch 56/100\n",
            "880/880 [==============================] - 1s 2ms/step - loss: 0.2761\n",
            "Epoch 57/100\n",
            "880/880 [==============================] - 1s 2ms/step - loss: 0.2756\n",
            "Epoch 58/100\n",
            "880/880 [==============================] - 1s 2ms/step - loss: 0.2736\n",
            "Epoch 59/100\n",
            "880/880 [==============================] - 1s 2ms/step - loss: 0.2749\n",
            "Epoch 60/100\n",
            "880/880 [==============================] - 1s 2ms/step - loss: 0.2744\n",
            "Epoch 61/100\n",
            "880/880 [==============================] - 1s 2ms/step - loss: 0.2753\n",
            "Epoch 62/100\n",
            "880/880 [==============================] - 1s 2ms/step - loss: 0.2732\n",
            "Epoch 63/100\n",
            "880/880 [==============================] - 1s 2ms/step - loss: 0.2729\n",
            "Epoch 64/100\n",
            "880/880 [==============================] - 1s 2ms/step - loss: 0.2752\n",
            "Epoch 65/100\n",
            "880/880 [==============================] - 1s 2ms/step - loss: 0.2754\n",
            "Epoch 66/100\n",
            "880/880 [==============================] - 2s 2ms/step - loss: 0.2731\n",
            "Epoch 67/100\n",
            "880/880 [==============================] - 1s 2ms/step - loss: 0.2740\n",
            "Epoch 68/100\n",
            "880/880 [==============================] - 1s 2ms/step - loss: 0.2731\n",
            "Epoch 69/100\n",
            "880/880 [==============================] - 1s 2ms/step - loss: 0.2720\n",
            "Epoch 70/100\n",
            "880/880 [==============================] - 2s 2ms/step - loss: 0.2714\n",
            "Epoch 71/100\n",
            "880/880 [==============================] - 2s 3ms/step - loss: 0.2717\n",
            "Epoch 72/100\n",
            "880/880 [==============================] - 1s 2ms/step - loss: 0.2718\n",
            "Epoch 73/100\n",
            "880/880 [==============================] - 1s 2ms/step - loss: 0.2728\n",
            "Epoch 74/100\n",
            "880/880 [==============================] - 1s 2ms/step - loss: 0.2720\n",
            "Epoch 75/100\n",
            "880/880 [==============================] - 1s 2ms/step - loss: 0.2711\n",
            "Epoch 76/100\n",
            "880/880 [==============================] - 1s 2ms/step - loss: 0.2717\n",
            "Epoch 77/100\n",
            "880/880 [==============================] - 1s 2ms/step - loss: 0.2702\n",
            "Epoch 78/100\n",
            "880/880 [==============================] - 1s 2ms/step - loss: 0.2701\n",
            "Epoch 79/100\n",
            "880/880 [==============================] - 1s 2ms/step - loss: 0.2709\n",
            "Epoch 80/100\n",
            "880/880 [==============================] - 2s 2ms/step - loss: 0.2697\n",
            "Epoch 81/100\n",
            "880/880 [==============================] - 1s 2ms/step - loss: 0.2703\n",
            "Epoch 82/100\n",
            "880/880 [==============================] - 2s 2ms/step - loss: 0.2696\n",
            "Epoch 83/100\n",
            "880/880 [==============================] - 2s 3ms/step - loss: 0.2709\n",
            "Epoch 84/100\n",
            "880/880 [==============================] - 2s 2ms/step - loss: 0.2697\n",
            "Epoch 85/100\n",
            "880/880 [==============================] - 1s 2ms/step - loss: 0.2687\n",
            "Epoch 86/100\n",
            "880/880 [==============================] - 1s 2ms/step - loss: 0.2686\n",
            "Epoch 87/100\n",
            "880/880 [==============================] - 1s 2ms/step - loss: 0.2689\n",
            "Epoch 88/100\n",
            "880/880 [==============================] - 1s 2ms/step - loss: 0.2684\n",
            "Epoch 89/100\n",
            "880/880 [==============================] - 1s 2ms/step - loss: 0.2687\n",
            "Epoch 90/100\n",
            "880/880 [==============================] - 1s 2ms/step - loss: 0.2696\n",
            "Epoch 91/100\n",
            "880/880 [==============================] - 1s 2ms/step - loss: 0.2683\n",
            "Epoch 92/100\n",
            "880/880 [==============================] - 1s 2ms/step - loss: 0.2684\n",
            "Epoch 93/100\n",
            "880/880 [==============================] - 1s 2ms/step - loss: 0.2687\n",
            "Epoch 94/100\n",
            "880/880 [==============================] - 1s 2ms/step - loss: 0.2681\n",
            "Epoch 95/100\n",
            "880/880 [==============================] - 1s 2ms/step - loss: 0.2675\n",
            "Epoch 96/100\n",
            "880/880 [==============================] - 1s 2ms/step - loss: 0.2674\n",
            "Epoch 97/100\n",
            "880/880 [==============================] - 1s 2ms/step - loss: 0.2672\n",
            "Epoch 98/100\n",
            "880/880 [==============================] - 1s 2ms/step - loss: 0.2682\n",
            "Epoch 99/100\n",
            "880/880 [==============================] - 1s 2ms/step - loss: 0.2699\n",
            "Epoch 100/100\n",
            "880/880 [==============================] - 2s 2ms/step - loss: 0.2673\n"
          ]
        },
        {
          "output_type": "execute_result",
          "data": {
            "text/plain": [
              "<keras.callbacks.History at 0x7fcf22af24d0>"
            ]
          },
          "metadata": {},
          "execution_count": 233
        }
      ]
    },
    {
      "cell_type": "code",
      "source": [
        "allPredict2 = NN2.predict(x)\n"
      ],
      "metadata": {
        "colab": {
          "base_uri": "https://localhost:8080/"
        },
        "id": "41EINGqK3wRG",
        "outputId": "a5ed2cf9-7d17-440d-9c36-21274b0a3dc9"
      },
      "execution_count": null,
      "outputs": [
        {
          "output_type": "stream",
          "name": "stdout",
          "text": [
            "688/688 [==============================] - 1s 1ms/step\n"
          ]
        }
      ]
    },
    {
      "cell_type": "code",
      "source": [
        "trainScore_not_scaled2 = 0\n",
        "trainScore_not_scaled2 = (mean_squared_error(y[:train_size], allPredict2[:train_size, 0]))\n",
        "print('Model 2: Training Data MSE on original scale: {0:.4f}'.format(trainScore_not_scaled2))"
      ],
      "metadata": {
        "colab": {
          "base_uri": "https://localhost:8080/"
        },
        "id": "_UupL5gp304E",
        "outputId": "5c3cba5e-3f85-49c0-80ec-897ddea93ad0"
      },
      "execution_count": null,
      "outputs": [
        {
          "output_type": "stream",
          "name": "stdout",
          "text": [
            "Model 2: Training Data MSE on original scale: 0.2637\n"
          ]
        }
      ]
    },
    {
      "cell_type": "code",
      "source": [
        "valScore_not_scaled2 = 0\n",
        "valScore_not_scaled2 = (mean_squared_error(y[train_size:], allPredict2[train_size:,0]))\n",
        "print('Model 2: Validation Data MSE original scale: {0:.4f}'.format(valScore_not_scaled2))"
      ],
      "metadata": {
        "colab": {
          "base_uri": "https://localhost:8080/"
        },
        "id": "mlgmHI4z34wb",
        "outputId": "219b8aea-d821-4573-8747-8f37f4a02945"
      },
      "execution_count": null,
      "outputs": [
        {
          "output_type": "stream",
          "name": "stdout",
          "text": [
            "Model 2: Validation Data MSE original scale: 0.2591\n"
          ]
        }
      ]
    },
    {
      "cell_type": "code",
      "source": [
        "ATM_test = pd.read_csv('ATM_test.csv')\n",
        "\n",
        "x_test = ATM_test.drop(['Withdraw'],axis=1)\n",
        "y_test = ATM_test['Withdraw']\n",
        "x_test[['Shops', 'ATMs', 'Downtown', 'Weekday', 'Center', 'High']] = scaling.transform(x_test)\n",
        "allPredict2 = NN2.predict(x_test)\n",
        "test_error2 = (mean_squared_error(y_test,allPredict2 ))\n",
        "print('Model 2: Test Data MSE original scale: {0:.4f}'.format(test_error2))"
      ],
      "metadata": {
        "colab": {
          "base_uri": "https://localhost:8080/"
        },
        "id": "uPPXGcSc39yW",
        "outputId": "72228d20-87cd-4c6a-fd71-79fb5c062ee2"
      },
      "execution_count": null,
      "outputs": [
        {
          "output_type": "stream",
          "name": "stdout",
          "text": [
            "5/5 [==============================] - 0s 3ms/step\n",
            "Model 2: Test Data MSE on original scale: 0.2413\n"
          ]
        }
      ]
    },
    {
      "cell_type": "code",
      "source": [
        "ATM_test = pd.read_csv('ATM_test.csv')\n",
        "ATM_train = pd.read_csv('ATM_training.csv')\n",
        "\n",
        "train_size = int(len(ATM_train)*0.8)\n",
        "x = ATM_train.drop(['Withdraw'],axis=1)\n",
        "y = ATM_train['Withdraw']\n",
        "scaling = StandardScaler().fit(x)\n",
        "x[['Shops', 'ATMs', 'Downtown', 'Weekday', 'Center', 'High']] = scaling.transform(x)\n",
        "\n",
        "x_train = x[:train_size]\n",
        "x_test = x[train_size:]\n",
        "y_train = y[:train_size]\n",
        "y_test = y[train_size:]\n",
        "\n",
        "NN3 = Sequential()\n",
        "NN3.add(Dense(10, kernel_initializer='normal',input_dim = x_train.shape[1], activation='relu'))\n",
        "NN3.add(Dense(10, input_dim = 10, activation='relu'))\n",
        "NN3.add(Dense(1))\n",
        "NN3.compile(loss='mean_squared_error', optimizer='adam')\n"
      ],
      "metadata": {
        "id": "C1eYD7Vs9Ouz"
      },
      "execution_count": null,
      "outputs": []
    },
    {
      "cell_type": "code",
      "source": [
        "NN3.summary()"
      ],
      "metadata": {
        "colab": {
          "base_uri": "https://localhost:8080/"
        },
        "id": "0z02M9MM9hfH",
        "outputId": "a5ff26a0-eba2-4cd1-cf23-5f7017f8c296"
      },
      "execution_count": null,
      "outputs": [
        {
          "output_type": "stream",
          "name": "stdout",
          "text": [
            "Model: \"sequential_38\"\n",
            "_________________________________________________________________\n",
            " Layer (type)                Output Shape              Param #   \n",
            "=================================================================\n",
            " dense_89 (Dense)            (None, 10)                70        \n",
            "                                                                 \n",
            " dense_90 (Dense)            (None, 10)                110       \n",
            "                                                                 \n",
            " dense_91 (Dense)            (None, 1)                 11        \n",
            "                                                                 \n",
            "=================================================================\n",
            "Total params: 191\n",
            "Trainable params: 191\n",
            "Non-trainable params: 0\n",
            "_________________________________________________________________\n"
          ]
        }
      ]
    },
    {
      "cell_type": "code",
      "source": [
        "NN3.fit(x_train, y_train, epochs=100, batch_size=20 , verbose=1)"
      ],
      "metadata": {
        "colab": {
          "base_uri": "https://localhost:8080/"
        },
        "id": "PbqimzFP9kNO",
        "outputId": "0dc78031-7103-400f-d4f4-f292da6153a0"
      },
      "execution_count": null,
      "outputs": [
        {
          "output_type": "stream",
          "name": "stdout",
          "text": [
            "Epoch 1/100\n",
            "880/880 [==============================] - 2s 2ms/step - loss: 1194.3407\n",
            "Epoch 2/100\n",
            "880/880 [==============================] - 2s 2ms/step - loss: 10.4826\n",
            "Epoch 3/100\n",
            "880/880 [==============================] - 2s 2ms/step - loss: 3.3560\n",
            "Epoch 4/100\n",
            "880/880 [==============================] - 2s 2ms/step - loss: 1.6853\n",
            "Epoch 5/100\n",
            "880/880 [==============================] - 2s 2ms/step - loss: 1.1797\n",
            "Epoch 6/100\n",
            "880/880 [==============================] - 2s 2ms/step - loss: 0.9395\n",
            "Epoch 7/100\n",
            "880/880 [==============================] - 2s 2ms/step - loss: 0.7764\n",
            "Epoch 8/100\n",
            "880/880 [==============================] - 2s 2ms/step - loss: 0.6266\n",
            "Epoch 9/100\n",
            "880/880 [==============================] - 3s 4ms/step - loss: 0.5004\n",
            "Epoch 10/100\n",
            "880/880 [==============================] - 3s 3ms/step - loss: 0.4063\n",
            "Epoch 11/100\n",
            "880/880 [==============================] - 3s 4ms/step - loss: 0.3452\n",
            "Epoch 12/100\n",
            "880/880 [==============================] - 4s 5ms/step - loss: 0.3096\n",
            "Epoch 13/100\n",
            "880/880 [==============================] - 5s 6ms/step - loss: 0.2943\n",
            "Epoch 14/100\n",
            "880/880 [==============================] - 6s 6ms/step - loss: 0.2857\n",
            "Epoch 15/100\n",
            "880/880 [==============================] - 8s 9ms/step - loss: 0.2861\n",
            "Epoch 16/100\n",
            "880/880 [==============================] - 5s 6ms/step - loss: 0.2835\n",
            "Epoch 17/100\n",
            "880/880 [==============================] - 5s 6ms/step - loss: 0.2859\n",
            "Epoch 18/100\n",
            "880/880 [==============================] - 5s 6ms/step - loss: 0.2818\n",
            "Epoch 19/100\n",
            "880/880 [==============================] - 4s 4ms/step - loss: 0.2888\n",
            "Epoch 20/100\n",
            "880/880 [==============================] - 5s 5ms/step - loss: 0.2829\n",
            "Epoch 21/100\n",
            "880/880 [==============================] - 4s 4ms/step - loss: 0.2844\n",
            "Epoch 22/100\n",
            "880/880 [==============================] - 4s 4ms/step - loss: 0.2803\n",
            "Epoch 23/100\n",
            "880/880 [==============================] - 4s 4ms/step - loss: 0.2826\n",
            "Epoch 24/100\n",
            "880/880 [==============================] - 3s 4ms/step - loss: 0.2802\n",
            "Epoch 25/100\n",
            "880/880 [==============================] - 8s 9ms/step - loss: 0.2822\n",
            "Epoch 26/100\n",
            "880/880 [==============================] - 5s 5ms/step - loss: 0.2843\n",
            "Epoch 27/100\n",
            "880/880 [==============================] - 4s 5ms/step - loss: 0.2788\n",
            "Epoch 28/100\n",
            "880/880 [==============================] - 2s 2ms/step - loss: 0.2802\n",
            "Epoch 29/100\n",
            "880/880 [==============================] - 2s 2ms/step - loss: 0.2818\n",
            "Epoch 30/100\n",
            "880/880 [==============================] - 2s 2ms/step - loss: 0.2814\n",
            "Epoch 31/100\n",
            "880/880 [==============================] - 2s 2ms/step - loss: 0.2819\n",
            "Epoch 32/100\n",
            "880/880 [==============================] - 2s 2ms/step - loss: 0.2810\n",
            "Epoch 33/100\n",
            "880/880 [==============================] - 2s 2ms/step - loss: 0.2803\n",
            "Epoch 34/100\n",
            "880/880 [==============================] - 2s 2ms/step - loss: 0.2800\n",
            "Epoch 35/100\n",
            "880/880 [==============================] - 2s 3ms/step - loss: 0.2822\n",
            "Epoch 36/100\n",
            "880/880 [==============================] - 4s 5ms/step - loss: 0.2782\n",
            "Epoch 37/100\n",
            "880/880 [==============================] - 3s 4ms/step - loss: 0.2798\n",
            "Epoch 38/100\n",
            "880/880 [==============================] - 4s 4ms/step - loss: 0.2803\n",
            "Epoch 39/100\n",
            "880/880 [==============================] - 2s 3ms/step - loss: 0.2799\n",
            "Epoch 40/100\n",
            "880/880 [==============================] - 3s 3ms/step - loss: 0.2782\n",
            "Epoch 41/100\n",
            "880/880 [==============================] - 3s 3ms/step - loss: 0.2815\n",
            "Epoch 42/100\n",
            "880/880 [==============================] - 2s 2ms/step - loss: 0.2804\n",
            "Epoch 43/100\n",
            "880/880 [==============================] - 2s 2ms/step - loss: 0.2782\n",
            "Epoch 44/100\n",
            "880/880 [==============================] - 3s 3ms/step - loss: 0.2818\n",
            "Epoch 45/100\n",
            "880/880 [==============================] - 2s 2ms/step - loss: 0.2787\n",
            "Epoch 46/100\n",
            "880/880 [==============================] - 2s 2ms/step - loss: 0.2795\n",
            "Epoch 47/100\n",
            "880/880 [==============================] - 2s 2ms/step - loss: 0.2793\n",
            "Epoch 48/100\n",
            "880/880 [==============================] - 2s 2ms/step - loss: 0.2784\n",
            "Epoch 49/100\n",
            "880/880 [==============================] - 3s 3ms/step - loss: 0.2793\n",
            "Epoch 50/100\n",
            "880/880 [==============================] - 4s 4ms/step - loss: 0.2806\n",
            "Epoch 51/100\n",
            "880/880 [==============================] - 3s 4ms/step - loss: 0.2785\n",
            "Epoch 52/100\n",
            "880/880 [==============================] - 3s 3ms/step - loss: 0.2818\n",
            "Epoch 53/100\n",
            "880/880 [==============================] - 2s 2ms/step - loss: 0.2756\n",
            "Epoch 54/100\n",
            "880/880 [==============================] - 3s 3ms/step - loss: 0.2821\n",
            "Epoch 55/100\n",
            "880/880 [==============================] - 2s 2ms/step - loss: 0.2796\n",
            "Epoch 56/100\n",
            "880/880 [==============================] - 2s 2ms/step - loss: 0.2777\n",
            "Epoch 57/100\n",
            "880/880 [==============================] - 2s 2ms/step - loss: 0.2789\n",
            "Epoch 58/100\n",
            "880/880 [==============================] - 2s 2ms/step - loss: 0.2775\n",
            "Epoch 59/100\n",
            "880/880 [==============================] - 2s 2ms/step - loss: 0.2794\n",
            "Epoch 60/100\n",
            "880/880 [==============================] - 3s 3ms/step - loss: 0.2750\n",
            "Epoch 61/100\n",
            "880/880 [==============================] - 3s 3ms/step - loss: 0.2788\n",
            "Epoch 62/100\n",
            "880/880 [==============================] - 3s 3ms/step - loss: 0.2776\n",
            "Epoch 63/100\n",
            "880/880 [==============================] - 3s 4ms/step - loss: 0.2746\n",
            "Epoch 64/100\n",
            "880/880 [==============================] - 3s 4ms/step - loss: 0.2809\n",
            "Epoch 65/100\n",
            "880/880 [==============================] - 3s 4ms/step - loss: 0.2781\n",
            "Epoch 66/100\n",
            "880/880 [==============================] - 2s 2ms/step - loss: 0.2789\n",
            "Epoch 67/100\n",
            "880/880 [==============================] - 2s 2ms/step - loss: 0.2817\n",
            "Epoch 68/100\n",
            "880/880 [==============================] - 2s 2ms/step - loss: 0.2814\n",
            "Epoch 69/100\n",
            "880/880 [==============================] - 2s 2ms/step - loss: 0.2778\n",
            "Epoch 70/100\n",
            "880/880 [==============================] - 2s 2ms/step - loss: 0.2754\n",
            "Epoch 71/100\n",
            "880/880 [==============================] - 2s 2ms/step - loss: 0.2743\n",
            "Epoch 72/100\n",
            "880/880 [==============================] - 2s 2ms/step - loss: 0.2773\n",
            "Epoch 73/100\n",
            "880/880 [==============================] - 2s 2ms/step - loss: 0.2769\n",
            "Epoch 74/100\n",
            "880/880 [==============================] - 2s 2ms/step - loss: 0.2765\n",
            "Epoch 75/100\n",
            "880/880 [==============================] - 2s 2ms/step - loss: 0.2788\n",
            "Epoch 76/100\n",
            "880/880 [==============================] - 2s 2ms/step - loss: 0.2760\n",
            "Epoch 77/100\n",
            "880/880 [==============================] - 2s 3ms/step - loss: 0.2767\n",
            "Epoch 78/100\n",
            "880/880 [==============================] - 3s 4ms/step - loss: 0.2771\n",
            "Epoch 79/100\n",
            "880/880 [==============================] - 4s 5ms/step - loss: 0.2816\n",
            "Epoch 80/100\n",
            "880/880 [==============================] - 5s 6ms/step - loss: 0.2756\n",
            "Epoch 81/100\n",
            "880/880 [==============================] - 4s 4ms/step - loss: 0.2773\n",
            "Epoch 82/100\n",
            "880/880 [==============================] - 2s 2ms/step - loss: 0.2753\n",
            "Epoch 83/100\n",
            "880/880 [==============================] - 2s 2ms/step - loss: 0.2747\n",
            "Epoch 84/100\n",
            "880/880 [==============================] - 2s 2ms/step - loss: 0.2736\n",
            "Epoch 85/100\n",
            "880/880 [==============================] - 2s 2ms/step - loss: 0.2759\n",
            "Epoch 86/100\n",
            "880/880 [==============================] - 2s 2ms/step - loss: 0.2773\n",
            "Epoch 87/100\n",
            "880/880 [==============================] - 2s 2ms/step - loss: 0.2780\n",
            "Epoch 88/100\n",
            "880/880 [==============================] - 2s 2ms/step - loss: 0.2752\n",
            "Epoch 89/100\n",
            "880/880 [==============================] - 3s 3ms/step - loss: 0.2790\n",
            "Epoch 90/100\n",
            "880/880 [==============================] - 3s 4ms/step - loss: 0.2742\n",
            "Epoch 91/100\n",
            "880/880 [==============================] - 3s 4ms/step - loss: 0.2741\n",
            "Epoch 92/100\n",
            "880/880 [==============================] - 3s 4ms/step - loss: 0.2735\n",
            "Epoch 93/100\n",
            "880/880 [==============================] - 4s 4ms/step - loss: 0.2765\n",
            "Epoch 94/100\n",
            "880/880 [==============================] - 2s 2ms/step - loss: 0.2736\n",
            "Epoch 95/100\n",
            "880/880 [==============================] - 2s 2ms/step - loss: 0.2753\n",
            "Epoch 96/100\n",
            "880/880 [==============================] - 2s 2ms/step - loss: 0.2755\n",
            "Epoch 97/100\n",
            "880/880 [==============================] - 3s 3ms/step - loss: 0.2747\n",
            "Epoch 98/100\n",
            "880/880 [==============================] - 4s 4ms/step - loss: 0.2744\n",
            "Epoch 99/100\n",
            "880/880 [==============================] - 2s 2ms/step - loss: 0.2782\n",
            "Epoch 100/100\n",
            "880/880 [==============================] - 2s 2ms/step - loss: 0.2756\n"
          ]
        },
        {
          "output_type": "execute_result",
          "data": {
            "text/plain": [
              "<keras.callbacks.History at 0x7fcf22a93890>"
            ]
          },
          "metadata": {},
          "execution_count": 247
        }
      ]
    },
    {
      "cell_type": "code",
      "source": [
        "allPredict3 = NN3.predict(x)"
      ],
      "metadata": {
        "colab": {
          "base_uri": "https://localhost:8080/"
        },
        "id": "PO6oh4Y3_HYP",
        "outputId": "31b10a5a-d9d7-4830-ee64-b81078478731"
      },
      "execution_count": null,
      "outputs": [
        {
          "output_type": "stream",
          "name": "stdout",
          "text": [
            "688/688 [==============================] - 1s 2ms/step\n"
          ]
        }
      ]
    },
    {
      "cell_type": "code",
      "source": [
        "trainScore_not_scaled3 = 0\n",
        "trainScore_not_scaled3 = (mean_squared_error(y[:train_size], allPredict3[:train_size, 0]))\n",
        "print('Model 3: Training Data MSE on original scale: {0:.4f}'.format(trainScore_not_scaled3))"
      ],
      "metadata": {
        "colab": {
          "base_uri": "https://localhost:8080/"
        },
        "id": "Mv-BogXB_Lxq",
        "outputId": "097c2141-c137-4c7b-869b-70b662f65484"
      },
      "execution_count": null,
      "outputs": [
        {
          "output_type": "stream",
          "name": "stdout",
          "text": [
            "Model 3: Training Data MSE on original scale: 0.2746\n"
          ]
        }
      ]
    },
    {
      "cell_type": "code",
      "source": [
        "valScore_not_scaled3 = 0\n",
        "valScore_not_scaled3 = (mean_squared_error(y[train_size:], allPredict3[train_size:,0]))\n",
        "print('Model 3: Validation Data MSE original scale: {0:.4f}'.format(valScore_not_scaled3))"
      ],
      "metadata": {
        "colab": {
          "base_uri": "https://localhost:8080/"
        },
        "id": "z7tbLOTE_Wbv",
        "outputId": "1209e37f-aa87-4385-e84d-7015abc35048"
      },
      "execution_count": null,
      "outputs": [
        {
          "output_type": "stream",
          "name": "stdout",
          "text": [
            "Model 3: Validation Data MSE original scale: 0.2667\n"
          ]
        }
      ]
    },
    {
      "cell_type": "code",
      "source": [
        "ATM_test = pd.read_csv('/content/drive/MyDrive/ECON3203/ATM_test.csv')\n",
        "\n",
        "x_test = ATM_test.drop(['Withdraw'],axis=1)\n",
        "y_test = ATM_test['Withdraw']\n",
        "x_test[['Shops', 'ATMs', 'Downtown', 'Weekday', 'Center', 'High']] = scaling.transform(x_test)\n",
        "allPredict3 = NN3.predict(x_test)\n",
        "test_error3 = (mean_squared_error(y_test,allPredict3))\n",
        "print('Model 3: Test Data MSE original scale: {0:.4f}'.format(test_error3))"
      ],
      "metadata": {
        "colab": {
          "base_uri": "https://localhost:8080/"
        },
        "id": "bv9ep4hI_ajk",
        "outputId": "56c1b0a2-64b9-478a-f35b-d63007d93350"
      },
      "execution_count": null,
      "outputs": [
        {
          "output_type": "stream",
          "name": "stdout",
          "text": [
            "5/5 [==============================] - 0s 3ms/step\n",
            "Model 3: Test Data MSE on original scale: 0.2436\n"
          ]
        }
      ]
    }
  ]
}